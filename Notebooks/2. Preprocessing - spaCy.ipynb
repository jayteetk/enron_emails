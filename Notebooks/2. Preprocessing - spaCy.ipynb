{
 "cells": [
  {
   "cell_type": "code",
   "execution_count": 2,
   "metadata": {
    "scrolled": true
   },
   "outputs": [],
   "source": [
    "import pandas as pd \n",
    "import numpy as np\n",
    "import re\n",
    "\n",
    "import gensim\n",
    "import en_core_web_sm\n",
    "from gensim.models.phrases import Phrases, Phraser\n",
    "from gensim.utils import simple_preprocess\n",
    "\n",
    "########\n",
    "\n",
    "import gensim\n",
    "import en_core_web_sm\n",
    "\n",
    "import warnings\n",
    "warnings.filterwarnings(\"ignore\",category=DeprecationWarning)\n",
    "#########\n",
    "\n",
    "import pickle\n",
    "\n",
    "from time import time  # To time our operations"
   ]
  },
  {
   "cell_type": "code",
   "execution_count": 3,
   "metadata": {},
   "outputs": [],
   "source": [
    "#Desktop\n",
    "df = pd.read_csv('D:/Capstone/dataset/emails_v1.csv')"
   ]
  },
  {
   "cell_type": "code",
   "execution_count": 4,
   "metadata": {},
   "outputs": [
    {
     "name": "stdout",
     "output_type": "stream",
     "text": [
      "<class 'pandas.core.frame.DataFrame'>\n",
      "RangeIndex: 209562 entries, 0 to 209561\n",
      "Data columns (total 11 columns):\n",
      "Unnamed: 0      209562 non-null int64\n",
      "user            209562 non-null object\n",
      "from            209562 non-null object\n",
      "type            209562 non-null object\n",
      "subject         209562 non-null object\n",
      "date            209562 non-null object\n",
      "bcc             209562 non-null object\n",
      "email           209562 non-null object\n",
      "body            209562 non-null object\n",
      "word_count      209562 non-null int64\n",
      "email_counts    209562 non-null int64\n",
      "dtypes: int64(3), object(8)\n",
      "memory usage: 17.6+ MB\n"
     ]
    }
   ],
   "source": [
    "df.info()"
   ]
  },
  {
   "cell_type": "code",
   "execution_count": 5,
   "metadata": {
    "scrolled": true
   },
   "outputs": [
    {
     "name": "stdout",
     "output_type": "stream",
     "text": [
      "Index(['Unnamed: 0', 'user', 'from', 'type', 'subject', 'date', 'bcc', 'email',\n",
      "       'body', 'word_count', 'email_counts'],\n",
      "      dtype='object')\n",
      "number of rows: 209562\n",
      "number of bbc: 123\n",
      "number of sent users: 147\n"
     ]
    }
   ],
   "source": [
    "#checkpoint\n",
    "print(df.columns)\n",
    "#print(df1.columns,'\\n')\n",
    "df=df.drop(columns = ['Unnamed: 0'])\n",
    "\n",
    "print('number of rows:',df.shape[0])\n",
    "print('number of bbc:',df[df.bcc!='None'].shape[0])\n",
    "print('number of sent users:',df[df.type=='sent']['user'].value_counts().shape[0])"
   ]
  },
  {
   "cell_type": "code",
   "execution_count": 6,
   "metadata": {},
   "outputs": [],
   "source": [
    "nlp = en_core_web_sm.load(disable=['parser'])"
   ]
  },
  {
   "cell_type": "code",
   "execution_count": 7,
   "metadata": {},
   "outputs": [],
   "source": [
    "custom_stop_words = ['from', 'subject', 're', 'edu', 'use','fwd','please',\n",
    "                   'thanks','enron','inc','copy','mail','know','need',\n",
    "                   're','yo','said','also','email','www','may','cell','fax',\n",
    "                   'http','br','table','width','href','ahref','align','would',\n",
    "                   'font','go','width_height','tr','nbsp','face_arial','gif','the',\n",
    "                    'align_center', 'td_td','table_width','colspan_nbsp','colspan_align',\n",
    "                    'like','courier_nbsp','ueta_ucita','hmtf']\n",
    "\n",
    "for w in custom_stop_words:\n",
    "    nlp.vocab[w].is_stop = True"
   ]
  },
  {
   "cell_type": "code",
   "execution_count": 8,
   "metadata": {
    "scrolled": true
   },
   "outputs": [],
   "source": [
    "# tokenize - break down each sentence into a list of words\n",
    "def sent_to_words(df):\n",
    "    list_of_sentences = df.values.tolist()\n",
    "    for sentence in list_of_sentences:\n",
    "        yield(gensim.utils.simple_preprocess(str(sentence), deacc=True))"
   ]
  },
  {
   "cell_type": "code",
   "execution_count": 9,
   "metadata": {},
   "outputs": [],
   "source": [
    "data_words = list(sent_to_words(df.body))"
   ]
  },
  {
   "cell_type": "code",
   "execution_count": 10,
   "metadata": {},
   "outputs": [],
   "source": [
    "bigram_mod = Phraser(Phrases(data_words, min_count=5, threshold=40))"
   ]
  },
  {
   "cell_type": "code",
   "execution_count": 11,
   "metadata": {},
   "outputs": [],
   "source": [
    "def stop2lem(texts, allowed_postags=['NOUN', 'ADJ', 'VERB', 'ADV']):\n",
    "    texts_out = []\n",
    "        \n",
    "    tokens = [[word for word in simple_preprocess(str(doc))] for doc in texts]\n",
    "    bigrams = [bigram_mod[doc] for doc in tokens]\n",
    "    #no_stop = [token for token in bigrams if not token.is_stop]\n",
    "    \n",
    "    for sent in bigrams:\n",
    "        doc = nlp(\" \".join(sent))\n",
    "        no_stop = [token for token in doc if not token.is_stop]\n",
    "        texts_out.append([token.lemma_ for token in no_stop if token.pos_ in allowed_postags])\n",
    "    return texts_out"
   ]
  },
  {
   "cell_type": "code",
   "execution_count": 12,
   "metadata": {},
   "outputs": [
    {
     "name": "stdout",
     "output_type": "stream",
     "text": [
      "Time to tokenize: 50.74 mins\n"
     ]
    }
   ],
   "source": [
    "t=time()\n",
    "data_lemmatized = stop2lem(data_words, allowed_postags=['NOUN', 'ADJ', 'VERB', 'ADV'])\n",
    "print('Time to tokenize: {} mins'.format(round((time() - t) / 60, 2)))"
   ]
  },
  {
   "cell_type": "code",
   "execution_count": 13,
   "metadata": {},
   "outputs": [],
   "source": [
    "pickle_out= open('spacy_lemv2.pickle','wb')\n",
    "pickle.dump(data_lemmatized,pickle_out)\n",
    "pickle_out.close()"
   ]
  },
  {
   "cell_type": "code",
   "execution_count": 6,
   "metadata": {},
   "outputs": [],
   "source": [
    "pickle_in = open(\"spacy_lemv2.pickle\",\"rb\")\n",
    "spacy_text = pickle.load(pickle_in)"
   ]
  },
  {
   "cell_type": "code",
   "execution_count": null,
   "metadata": {},
   "outputs": [],
   "source": []
  }
 ],
 "metadata": {
  "kernelspec": {
   "display_name": "Python 3",
   "language": "python",
   "name": "python3"
  },
  "language_info": {
   "codemirror_mode": {
    "name": "ipython",
    "version": 3
   },
   "file_extension": ".py",
   "mimetype": "text/x-python",
   "name": "python",
   "nbconvert_exporter": "python",
   "pygments_lexer": "ipython3",
   "version": "3.7.3"
  }
 },
 "nbformat": 4,
 "nbformat_minor": 2
}
