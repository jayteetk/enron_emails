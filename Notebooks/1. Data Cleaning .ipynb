{
 "cells": [
  {
   "cell_type": "markdown",
   "metadata": {},
   "source": [
    "### Problem statement \n",
    "Companies face the issue of identifying communication networks when it comes to project or supply chain management.\n",
    "Inherently this could lead to unintended dependencies or issues that may arise over time. \n",
    "Uncovering discussions over time by user allows businesses to act proactively to mitigate business risk.\n",
    "\n",
    "Identify and Quantify network/connectivity significance. \n",
    "enabling the mitigation of business continuity risk through better resource allocation.\n",
    "\n",
    "### Solution\n",
    "Risk profiling would be done on two levels:\n",
    "1. Face/superficial\n",
    "2. Topical/knowledge\n",
    "\n",
    "The profiles would indicate the following metrics:\n",
    "    - Degree \n",
    "    - Topical discussion over time\n",
    "\n",
    "Through the dossiers management would be able to better identify knowledge and cultural dependencies.\n",
    "\n",
    "Applictaion to supply chain:\n",
    "Feature: transaction volume/value, units. \n",
    "- identification and ranking of suppliers through communique (sentiment/reliability)\n",
    "- identification of transaction volume through suppliers\n",
    "- identification of dependency risk by production process.\n"
   ]
  },
  {
   "cell_type": "code",
   "execution_count": 1,
   "metadata": {},
   "outputs": [],
   "source": [
    "import numpy as np \n",
    "import pandas as pd\n",
    "from time import time\n",
    "import re\n",
    "import random\n",
    "import pickle\n",
    "from datetime import datetime, timedelta\n",
    "\n",
    "#timing for whole notebook\n",
    "tt = time()"
   ]
  },
  {
   "cell_type": "code",
   "execution_count": 2,
   "metadata": {},
   "outputs": [],
   "source": [
    "df = pd.read_csv('D:/Capstone/dataset/emails.csv')"
   ]
  },
  {
   "cell_type": "code",
   "execution_count": 3,
   "metadata": {},
   "outputs": [],
   "source": [
    "#username - for later use\n",
    "df['user']=df['file'].str.extract(r\"([a-z]+-[^\\/]+)\")\n",
    "#extract folder name - for later use\n",
    "df['folder']=df['file'].str.extract(r\"/(.*)\\.\")\n",
    "df['folder']=df['folder'].str.lower()\n",
    "#drop file, no longer needed\n",
    "df=df.drop(columns ='file')\n",
    "#replace all \\n with spaces\n",
    "df = df.replace(r'(\\n)',' ', regex=True) \n",
    "#extract emails\n",
    "df['from'] = df['message'].str.extract(r'From: ([\\S]+@[a-zA-Z0-9._-]+\\.[a-zA-Z0-9_-]+)')"
   ]
  },
  {
   "cell_type": "code",
   "execution_count": 4,
   "metadata": {},
   "outputs": [
    {
     "name": "stdout",
     "output_type": "stream",
     "text": [
      "Time to clean up everything: 0.02 mins\n"
     ]
    }
   ],
   "source": [
    "t = time()\n",
    "df['from2']=df[df['from'].isna()]['message'].str.extract(r'From: .*? \\<([a-zA-Z0-9._-]+@[a-zA-Z0-9._-]+\\.[a-zA-Z0-9_-]+)\\> To:')\n",
    "df[\"from\"].fillna(df['from2'],inplace=True)\n",
    "df['from3']=df[df['from'].isna()]['message'].str.extract(r'From: .*? \\<([a-zA-Z0-9._-]+@[a-zA-Z0-9._-]+\\.[a-zA-Z0-9_-]+)\\> ')\n",
    "df[\"from\"].fillna(df['from3'],inplace=True)\n",
    "df=df.drop(columns=['from2','from3'])\n",
    "df.loc[df['from'].isna(),['from']]=df[df['from'].isna()]['message'].str.extract(r'From: .* \\<([a-zA-Z0-9._-]+@[a-zA-Z0-9._-]+\\.[a-zA-Z0-9_-]+)\\> To:')\n",
    "df['from'] = df['from'].replace(r'\\<','',regex = True) \n",
    "df['from']=df['from'].str.lower()\n",
    "#drop no.address@enron.com\n",
    "df=df[df['from']!='no.address@enron.com']\n",
    "\n",
    "print('Time to clean up everything: {} mins'.format(round((time() - t) / 60, 2)))\n",
    "#checked all emails (up to emails with 106 characters) to verify validity of email extraction."
   ]
  },
  {
   "cell_type": "code",
   "execution_count": 5,
   "metadata": {},
   "outputs": [],
   "source": [
    "#identify sent or received\n",
    "df['type']=df['folder'].str.extract(r'(sent)')\n",
    "df['type'].fillna('received',inplace=True)"
   ]
  },
  {
   "cell_type": "code",
   "execution_count": 6,
   "metadata": {},
   "outputs": [],
   "source": [
    "#identify title/subject for possible topic attribution\n",
    "df['subject'] = df['message'].str.extract(r'Subject:\\s(.*)\\sMime')\n",
    "df['subject'] = df['subject'].replace(r'(Cc:.*|Mime-.*)\\s','',regex = True) "
   ]
  },
  {
   "cell_type": "code",
   "execution_count": 7,
   "metadata": {},
   "outputs": [],
   "source": [
    "df['subject2']=df[df['subject'].isna()]['message'].str.extract(r'Subject:(.*) -Version')\n",
    "df[\"subject\"].fillna(df['subject2'],inplace=True)\n",
    "df=df.drop(columns=['subject2'])"
   ]
  },
  {
   "cell_type": "code",
   "execution_count": 8,
   "metadata": {},
   "outputs": [],
   "source": [
    "#Cleaning subjects\n",
    "df['subject'] = df['subject'].replace(r'[Rr][Ee]:|[Ff][Ww]:|[Tt][Oo]:|(\\d+)',' ',regex = True)\n",
    "df['subject'] = df['subject'].replace(r'[\\w\\.-]+@[\\w\\.-]+','',regex = True)\n",
    "df['subject'] = df['subject'].replace(r'[^A-Za-z0-9\\.]+',' ',regex = True)"
   ]
  },
  {
   "cell_type": "code",
   "execution_count": 9,
   "metadata": {},
   "outputs": [],
   "source": [
    "#fill blank subjects\n",
    "df['subject'].fillna(value=str('no subject'), inplace=True)\n",
    "df.loc[df['subject']==' ',['subject']]='no subject'\n",
    "df.loc[df['subject']=='',['subject']]='no subject'"
   ]
  },
  {
   "cell_type": "code",
   "execution_count": 10,
   "metadata": {},
   "outputs": [
    {
     "name": "stdout",
     "output_type": "stream",
     "text": [
      "Time to clean up everything: 0.36 mins\n"
     ]
    }
   ],
   "source": [
    "t = time()\n",
    "#extract date & time\n",
    "df['date'] = df['message'].str.extract(r'Date: (\\w+, \\d+ \\w+ \\d+ .*?)[+-]')\n",
    "#extract bcc\n",
    "df['bcc'] = df['message'].str.extract(r'X-bcc: (.*)X-Folder')\n",
    "df['bcc'] = df['bcc'].replace(r'<(.*)>|(\\s+){2}','',regex = True)\n",
    "df.loc[df['bcc']==' ',['bcc']]='None'\n",
    "df.bcc.fillna(value = 'None',inplace=True)\n",
    "\n",
    "#remove CC, not important\n",
    "df['message'] = df.replace(r'Cc: (.*) Mime',' ',regex = True)\n",
    "\n",
    "df = df.replace(r'(\\r)','',regex = True)\n",
    "print('Time to clean up everything: {} mins'.format(round((time() - t) / 60, 2)))"
   ]
  },
  {
   "cell_type": "code",
   "execution_count": 11,
   "metadata": {},
   "outputs": [
    {
     "name": "stdout",
     "output_type": "stream",
     "text": [
      "number of rows: 512289\n",
      "number of bbc: 173\n",
      "number of sent users: 149\n"
     ]
    }
   ],
   "source": [
    "#checkpoint\n",
    "print('number of rows:',df.shape[0])\n",
    "print('number of bbc:',df[df.bcc!='None'].shape[0])\n",
    "print('number of sent users:',df[df.type=='sent']['user'].value_counts().shape[0])"
   ]
  },
  {
   "cell_type": "code",
   "execution_count": 12,
   "metadata": {},
   "outputs": [],
   "source": [
    "user_list=df['user'].unique().tolist()\n",
    "email_list=df['from'].unique().tolist()"
   ]
  },
  {
   "cell_type": "code",
   "execution_count": 13,
   "metadata": {},
   "outputs": [],
   "source": [
    "def counta(df,cnt_what,by2_criteria,by2,by1,by_list):\n",
    "    return_list=[]\n",
    "    count_list=[]\n",
    "    for i in by_list:\n",
    "        a=df[(df[by1]==i) & (df[by2]==by2_criteria)][cnt_what].value_counts()\n",
    "        return_list.append(a)\n",
    "        count_list.append(len(a))\n",
    "    df = pd.DataFrame({'input_list': by_list,\n",
    "                       'output_list': return_list,\n",
    "                       'count_list': count_list})\n",
    "    return df\n",
    "\n",
    "def modea(df,rep_what,by2_criteria,by2,by1,by_list):\n",
    "    return_list=[]\n",
    "    for i in by_list:\n",
    "        mode = df[(df[by1]==i)&(df[by2]== by2_criteria)][rep_what].mode()\n",
    "        try:\n",
    "            modea=mode[0]\n",
    "            return_list.append(modea)\n",
    "        except:\n",
    "            modea='NO EMAIL'\n",
    "            return_list.append(modea)\n",
    "    df = pd.DataFrame({'input_list': by_list,\n",
    "                       'output_list': return_list\n",
    "                       })\n",
    "    return df    "
   ]
  },
  {
   "cell_type": "code",
   "execution_count": 14,
   "metadata": {},
   "outputs": [
    {
     "data": {
      "text/html": [
       "<div>\n",
       "<style scoped>\n",
       "    .dataframe tbody tr th:only-of-type {\n",
       "        vertical-align: middle;\n",
       "    }\n",
       "\n",
       "    .dataframe tbody tr th {\n",
       "        vertical-align: top;\n",
       "    }\n",
       "\n",
       "    .dataframe thead th {\n",
       "        text-align: right;\n",
       "    }\n",
       "</style>\n",
       "<table border=\"1\" class=\"dataframe\">\n",
       "  <thead>\n",
       "    <tr style=\"text-align: right;\">\n",
       "      <th></th>\n",
       "      <th>input_list</th>\n",
       "      <th>output_list</th>\n",
       "      <th>count_list</th>\n",
       "    </tr>\n",
       "  </thead>\n",
       "  <tbody>\n",
       "    <tr>\n",
       "      <th>0</th>\n",
       "      <td>allen-p</td>\n",
       "      <td>phillip.allen@enron.com    1203\n",
       "k..allen@enron...</td>\n",
       "      <td>4</td>\n",
       "    </tr>\n",
       "    <tr>\n",
       "      <th>7</th>\n",
       "      <td>beck-s</td>\n",
       "      <td>sally.beck@enron.com        2518\n",
       "patti.thompso...</td>\n",
       "      <td>3</td>\n",
       "    </tr>\n",
       "    <tr>\n",
       "      <th>9</th>\n",
       "      <td>blair-l</td>\n",
       "      <td>lynn.blair@enron.com         1009\n",
       "shelley.corm...</td>\n",
       "      <td>7</td>\n",
       "    </tr>\n",
       "    <tr>\n",
       "      <th>12</th>\n",
       "      <td>campbell-l</td>\n",
       "      <td>larry.campbell@enron.com    600\n",
       "f..campbell@en...</td>\n",
       "      <td>3</td>\n",
       "    </tr>\n",
       "    <tr>\n",
       "      <th>14</th>\n",
       "      <td>cash-m</td>\n",
       "      <td>michelle.cash@enron.com    1100\n",
       "twanda.sweet@e...</td>\n",
       "      <td>3</td>\n",
       "    </tr>\n",
       "    <tr>\n",
       "      <th>22</th>\n",
       "      <td>delainey-d</td>\n",
       "      <td>david.delainey@enron.com      1518\n",
       "kay.chapman...</td>\n",
       "      <td>4</td>\n",
       "    </tr>\n",
       "    <tr>\n",
       "      <th>34</th>\n",
       "      <td>gay-r</td>\n",
       "      <td>randall.gay@enron.com    354\n",
       "rob.gay@enron.com...</td>\n",
       "      <td>3</td>\n",
       "    </tr>\n",
       "    <tr>\n",
       "      <th>38</th>\n",
       "      <td>giron-d</td>\n",
       "      <td>darron.giron@enron.com      1581\n",
       "c..giron@enro...</td>\n",
       "      <td>3</td>\n",
       "    </tr>\n",
       "    <tr>\n",
       "      <th>42</th>\n",
       "      <td>haedicke-m</td>\n",
       "      <td>mark.haedicke@enron.com        913\n",
       "e..haedicke...</td>\n",
       "      <td>6</td>\n",
       "    </tr>\n",
       "    <tr>\n",
       "      <th>49</th>\n",
       "      <td>hodge-j</td>\n",
       "      <td>t..hodge@enron.com          61\n",
       "john.hodge@enro...</td>\n",
       "      <td>6</td>\n",
       "    </tr>\n",
       "    <tr>\n",
       "      <th>51</th>\n",
       "      <td>horton-s</td>\n",
       "      <td>stanley.horton@enron.com    682\n",
       "cindy.stark@en...</td>\n",
       "      <td>3</td>\n",
       "    </tr>\n",
       "    <tr>\n",
       "      <th>55</th>\n",
       "      <td>kaminski-v</td>\n",
       "      <td>vince.kaminski@enron.com            7185\n",
       "j.kam...</td>\n",
       "      <td>19</td>\n",
       "    </tr>\n",
       "    <tr>\n",
       "      <th>56</th>\n",
       "      <td>kean-s</td>\n",
       "      <td>steven.kean@enron.com          1229\n",
       "j..kean@en...</td>\n",
       "      <td>38</td>\n",
       "    </tr>\n",
       "    <tr>\n",
       "      <th>57</th>\n",
       "      <td>keavey-p</td>\n",
       "      <td>peter.keavey@enron.com     145\n",
       "f..keavey@enron...</td>\n",
       "      <td>3</td>\n",
       "    </tr>\n",
       "    <tr>\n",
       "      <th>62</th>\n",
       "      <td>lavorato-j</td>\n",
       "      <td>john.lavorato@enron.com       1386\n",
       "lavorato@en...</td>\n",
       "      <td>5</td>\n",
       "    </tr>\n",
       "    <tr>\n",
       "      <th>63</th>\n",
       "      <td>lay-k</td>\n",
       "      <td>rosalee.fleming@enron.com    497\n",
       "tori.wells@en...</td>\n",
       "      <td>3</td>\n",
       "    </tr>\n",
       "    <tr>\n",
       "      <th>68</th>\n",
       "      <td>lokey-t</td>\n",
       "      <td>teb.lokey@enron.com       134\n",
       "sheila.nacey@enr...</td>\n",
       "      <td>4</td>\n",
       "    </tr>\n",
       "    <tr>\n",
       "      <th>73</th>\n",
       "      <td>martin-t</td>\n",
       "      <td>a..martin@enron.com          206\n",
       "thomas.martin...</td>\n",
       "      <td>3</td>\n",
       "    </tr>\n",
       "    <tr>\n",
       "      <th>75</th>\n",
       "      <td>mccarty-d</td>\n",
       "      <td>danny.mccarty@enron.com     172\n",
       "michael.norden...</td>\n",
       "      <td>3</td>\n",
       "    </tr>\n",
       "    <tr>\n",
       "      <th>76</th>\n",
       "      <td>mcconnell-m</td>\n",
       "      <td>mike.mcconnell@enron.com     1535\n",
       "mark.mcconne...</td>\n",
       "      <td>11</td>\n",
       "    </tr>\n",
       "    <tr>\n",
       "      <th>84</th>\n",
       "      <td>neal-s</td>\n",
       "      <td>scott.neal@enron.com        1093\n",
       "kimberly.brow...</td>\n",
       "      <td>3</td>\n",
       "    </tr>\n",
       "    <tr>\n",
       "      <th>88</th>\n",
       "      <td>pereira-s</td>\n",
       "      <td>susan.pereira@enron.com    250\n",
       "w..pereira@enro...</td>\n",
       "      <td>3</td>\n",
       "    </tr>\n",
       "    <tr>\n",
       "      <th>93</th>\n",
       "      <td>presto-k</td>\n",
       "      <td>m..presto@enron.com         783\n",
       "kevin.presto@e...</td>\n",
       "      <td>9</td>\n",
       "    </tr>\n",
       "    <tr>\n",
       "      <th>108</th>\n",
       "      <td>sanders-r</td>\n",
       "      <td>richard.sanders@enron.com    1587\n",
       "b..sanders@e...</td>\n",
       "      <td>3</td>\n",
       "    </tr>\n",
       "    <tr>\n",
       "      <th>118</th>\n",
       "      <td>skilling-j</td>\n",
       "      <td>sherri.sera@enron.com            380\n",
       "joannie.w...</td>\n",
       "      <td>7</td>\n",
       "    </tr>\n",
       "    <tr>\n",
       "      <th>127</th>\n",
       "      <td>stokley-c</td>\n",
       "      <td>chris.stokley@enron.com        513\n",
       "paige.grumu...</td>\n",
       "      <td>3</td>\n",
       "    </tr>\n",
       "    <tr>\n",
       "      <th>129</th>\n",
       "      <td>sturm-f</td>\n",
       "      <td>fletcher.sturm@enron.com    254\n",
       "j..sturm@enron...</td>\n",
       "      <td>5</td>\n",
       "    </tr>\n",
       "    <tr>\n",
       "      <th>132</th>\n",
       "      <td>taylor-m</td>\n",
       "      <td>mark.taylor@enron.com      1933\n",
       ".taylor@enron....</td>\n",
       "      <td>8</td>\n",
       "    </tr>\n",
       "    <tr>\n",
       "      <th>137</th>\n",
       "      <td>ward-k</td>\n",
       "      <td>.ward@enron.com                543\n",
       "kim.ward@en...</td>\n",
       "      <td>8</td>\n",
       "    </tr>\n",
       "    <tr>\n",
       "      <th>142</th>\n",
       "      <td>white-s</td>\n",
       "      <td>w..white@enron.com            437\n",
       "zionette.vin...</td>\n",
       "      <td>10</td>\n",
       "    </tr>\n",
       "    <tr>\n",
       "      <th>144</th>\n",
       "      <td>williams-j</td>\n",
       "      <td>jason.williams@enron.com           74\n",
       ".william...</td>\n",
       "      <td>3</td>\n",
       "    </tr>\n",
       "  </tbody>\n",
       "</table>\n",
       "</div>"
      ],
      "text/plain": [
       "      input_list                                        output_list  \\\n",
       "0        allen-p  phillip.allen@enron.com    1203\n",
       "k..allen@enron...   \n",
       "7         beck-s  sally.beck@enron.com        2518\n",
       "patti.thompso...   \n",
       "9        blair-l  lynn.blair@enron.com         1009\n",
       "shelley.corm...   \n",
       "12    campbell-l  larry.campbell@enron.com    600\n",
       "f..campbell@en...   \n",
       "14        cash-m  michelle.cash@enron.com    1100\n",
       "twanda.sweet@e...   \n",
       "22    delainey-d  david.delainey@enron.com      1518\n",
       "kay.chapman...   \n",
       "34         gay-r  randall.gay@enron.com    354\n",
       "rob.gay@enron.com...   \n",
       "38       giron-d  darron.giron@enron.com      1581\n",
       "c..giron@enro...   \n",
       "42    haedicke-m  mark.haedicke@enron.com        913\n",
       "e..haedicke...   \n",
       "49       hodge-j  t..hodge@enron.com          61\n",
       "john.hodge@enro...   \n",
       "51      horton-s  stanley.horton@enron.com    682\n",
       "cindy.stark@en...   \n",
       "55    kaminski-v  vince.kaminski@enron.com            7185\n",
       "j.kam...   \n",
       "56        kean-s  steven.kean@enron.com          1229\n",
       "j..kean@en...   \n",
       "57      keavey-p  peter.keavey@enron.com     145\n",
       "f..keavey@enron...   \n",
       "62    lavorato-j  john.lavorato@enron.com       1386\n",
       "lavorato@en...   \n",
       "63         lay-k  rosalee.fleming@enron.com    497\n",
       "tori.wells@en...   \n",
       "68       lokey-t  teb.lokey@enron.com       134\n",
       "sheila.nacey@enr...   \n",
       "73      martin-t  a..martin@enron.com          206\n",
       "thomas.martin...   \n",
       "75     mccarty-d  danny.mccarty@enron.com     172\n",
       "michael.norden...   \n",
       "76   mcconnell-m  mike.mcconnell@enron.com     1535\n",
       "mark.mcconne...   \n",
       "84        neal-s  scott.neal@enron.com        1093\n",
       "kimberly.brow...   \n",
       "88     pereira-s  susan.pereira@enron.com    250\n",
       "w..pereira@enro...   \n",
       "93      presto-k  m..presto@enron.com         783\n",
       "kevin.presto@e...   \n",
       "108    sanders-r  richard.sanders@enron.com    1587\n",
       "b..sanders@e...   \n",
       "118   skilling-j  sherri.sera@enron.com            380\n",
       "joannie.w...   \n",
       "127    stokley-c  chris.stokley@enron.com        513\n",
       "paige.grumu...   \n",
       "129      sturm-f  fletcher.sturm@enron.com    254\n",
       "j..sturm@enron...   \n",
       "132     taylor-m  mark.taylor@enron.com      1933\n",
       ".taylor@enron....   \n",
       "137       ward-k  .ward@enron.com                543\n",
       "kim.ward@en...   \n",
       "142      white-s  w..white@enron.com            437\n",
       "zionette.vin...   \n",
       "144   williams-j  jason.williams@enron.com           74\n",
       ".william...   \n",
       "\n",
       "     count_list  \n",
       "0             4  \n",
       "7             3  \n",
       "9             7  \n",
       "12            3  \n",
       "14            3  \n",
       "22            4  \n",
       "34            3  \n",
       "38            3  \n",
       "42            6  \n",
       "49            6  \n",
       "51            3  \n",
       "55           19  \n",
       "56           38  \n",
       "57            3  \n",
       "62            5  \n",
       "63            3  \n",
       "68            4  \n",
       "73            3  \n",
       "75            3  \n",
       "76           11  \n",
       "84            3  \n",
       "88            3  \n",
       "93            9  \n",
       "108           3  \n",
       "118           7  \n",
       "127           3  \n",
       "129           5  \n",
       "132           8  \n",
       "137           8  \n",
       "142          10  \n",
       "144           3  "
      ]
     },
     "execution_count": 14,
     "metadata": {},
     "output_type": "execute_result"
    }
   ],
   "source": [
    "check=counta(df,'from','sent','type','user',user_list)\n",
    "check[check['count_list']>2]"
   ]
  },
  {
   "cell_type": "code",
   "execution_count": 15,
   "metadata": {},
   "outputs": [
    {
     "data": {
      "text/html": [
       "<div>\n",
       "<style scoped>\n",
       "    .dataframe tbody tr th:only-of-type {\n",
       "        vertical-align: middle;\n",
       "    }\n",
       "\n",
       "    .dataframe tbody tr th {\n",
       "        vertical-align: top;\n",
       "    }\n",
       "\n",
       "    .dataframe thead th {\n",
       "        text-align: right;\n",
       "    }\n",
       "</style>\n",
       "<table border=\"1\" class=\"dataframe\">\n",
       "  <thead>\n",
       "    <tr style=\"text-align: right;\">\n",
       "      <th></th>\n",
       "      <th>input_list</th>\n",
       "      <th>output_list</th>\n",
       "    </tr>\n",
       "  </thead>\n",
       "  <tbody>\n",
       "    <tr>\n",
       "      <th>0</th>\n",
       "      <td>allen-p</td>\n",
       "      <td>phillip.allen@enron.com</td>\n",
       "    </tr>\n",
       "    <tr>\n",
       "      <th>1</th>\n",
       "      <td>arnold-j</td>\n",
       "      <td>john.arnold@enron.com</td>\n",
       "    </tr>\n",
       "    <tr>\n",
       "      <th>2</th>\n",
       "      <td>arora-h</td>\n",
       "      <td>harry.arora@enron.com</td>\n",
       "    </tr>\n",
       "    <tr>\n",
       "      <th>3</th>\n",
       "      <td>badeer-r</td>\n",
       "      <td>robert.badeer@enron.com</td>\n",
       "    </tr>\n",
       "    <tr>\n",
       "      <th>4</th>\n",
       "      <td>bailey-s</td>\n",
       "      <td>susan.bailey@enron.com</td>\n",
       "    </tr>\n",
       "  </tbody>\n",
       "</table>\n",
       "</div>"
      ],
      "text/plain": [
       "  input_list              output_list\n",
       "0    allen-p  phillip.allen@enron.com\n",
       "1   arnold-j    john.arnold@enron.com\n",
       "2    arora-h    harry.arora@enron.com\n",
       "3   badeer-r  robert.badeer@enron.com\n",
       "4   bailey-s   susan.bailey@enron.com"
      ]
     },
     "execution_count": 15,
     "metadata": {},
     "output_type": "execute_result"
    }
   ],
   "source": [
    "user_key = modea(df,'from','sent','type','user',user_list)\n",
    "user_key.head()"
   ]
  },
  {
   "cell_type": "code",
   "execution_count": 16,
   "metadata": {},
   "outputs": [
    {
     "data": {
      "text/plain": [
       "harris-s    514\n",
       "Name: user, dtype: int64"
      ]
     },
     "execution_count": 16,
     "metadata": {},
     "output_type": "execute_result"
    }
   ],
   "source": [
    "user_key.columns=['user','email']\n",
    "df= df.merge(user_key,on='user')\n",
    "df[df['email']=='NO EMAIL']['user'].value_counts()"
   ]
  },
  {
   "cell_type": "code",
   "execution_count": 17,
   "metadata": {},
   "outputs": [
    {
     "name": "stdout",
     "output_type": "stream",
     "text": [
      "number of rows: 512289\n",
      "number of bbc: 173\n",
      "number of sent users: 149\n"
     ]
    }
   ],
   "source": [
    "#checkpoint\n",
    "print('number of rows:',df.shape[0])\n",
    "print('number of bbc:',df[df.bcc!='None'].shape[0])\n",
    "print('number of sent users:',df[df.type=='sent']['user'].value_counts().shape[0])"
   ]
  },
  {
   "cell_type": "code",
   "execution_count": 18,
   "metadata": {},
   "outputs": [
    {
     "name": "stdout",
     "output_type": "stream",
     "text": [
      "Time to clean up everything: 0.1 mins\n"
     ]
    }
   ],
   "source": [
    "t = time()\n",
    "#Attempt to parse message\n",
    "df['body1'] = df['message'].str.extract(r'\\.[pP][sS][tT](.*)')\n",
    "df['body2'] = df['message'].str.extract(r'\\.nsf(.*)')\n",
    "df['body1'] = df['body1'].fillna('**NAN**')\n",
    "df['body2'] = df['body2'].fillna('**NAN**')\n",
    "df['body'] = df['body1'].map(str)+df['body2'].map(str)\n",
    "df=df.drop(columns=['body1','body2'])\n",
    "df['body3']=df[df['body']=='**NAN****NAN**']['message'].str.extract(r'X-FileName: (.*)')\n",
    "df['body3'] = df['body3'].fillna('**NAN**')\n",
    "df['body'] = df['body'].map(str)+df['body3'].map(str)\n",
    "df=df.drop(columns='body3')\n",
    "print('Time to clean up everything: {} mins'.format(round((time() - t) / 60, 2)))"
   ]
  },
  {
   "cell_type": "code",
   "execution_count": 19,
   "metadata": {},
   "outputs": [
    {
     "name": "stdout",
     "output_type": "stream",
     "text": [
      "Time to clean up everything: 3.29 mins\n"
     ]
    }
   ],
   "source": [
    "t = time()\n",
    "df['body'] = df['body'].replace(r' (http|ftp|https)\\:\\/\\/([\\w_-]+(?:(?:\\.[\\w_-]+)+))([\\w.,@?^=%&:/~+#-]*[\\w@?^=%&/~+#-])?',\n",
    "                                '',regex = True)\n",
    "df['body'] = df['body'].replace(r'([Ww]{3}.*?\\s)','',regex = True)\n",
    "df['body'] = df['body'].replace(r'(-+ Forwarded.*?Subject:)|(<.*?Subject:)|(From:.*?Content-Length:)|(From:.*?Subject:)',\n",
    "                                '',regex = True)\n",
    "print('Time to clean up everything: {} mins'.format(round((time() - t) / 60, 2)))"
   ]
  },
  {
   "cell_type": "code",
   "execution_count": 20,
   "metadata": {},
   "outputs": [],
   "source": [
    "df['body'] = df['body'].replace(r'(-+Original Message-+|\\[IMAGE\\])|(To:.*?Subject:)','',regex = True)\n",
    "df['body'] = df['body'].replace(r'(---+|___+|~~~+|===+|\\.\\.\\.+|\\*\\*\\*+|\\+\\+\\++|\\?\\?\\?+)',' ',regex = True)"
   ]
  },
  {
   "cell_type": "code",
   "execution_count": 21,
   "metadata": {},
   "outputs": [],
   "source": [
    "df['body'] = df['body'].replace(r'(=20|=01|=3D|=09)','',regex = True) \n",
    "df['body'] = df['body'].replace(r'(\\*\\*NAN\\*\\*)','',regex = True)\n",
    "df['body'] = df['body'].replace(r'(\\*\\*NAN|NAN\\*\\*|NAN)','',regex = True)"
   ]
  },
  {
   "cell_type": "code",
   "execution_count": 22,
   "metadata": {},
   "outputs": [],
   "source": [
    "#remove signatures\n",
    "df['body'] = df['body'].replace(r'This e[\\s\\-]mail is the property of Enron Corp. and or its relevant affiliate and may contain confidential and privileged material for the sole use of the intended recipient s . Any review use distribution or disclosure by others is strictly prohibited. If you are not the intended recipient or authorized to receive for the recipient please contact the sender or reply to Enron Corp. at and delete all copies of the message. This e mail and any attachments hereto are not intended to be an offer or an acceptance and do not create or evidence a binding and enforceable contract between Enron Corp. or any of its affiliates and the intended recipient or any other party and may not be relied on by anyone as the basis of a contract by estoppel or otherwise. Thank you.','',regex = True)\n",
    "df['body'] = df['body'].replace(r'This email and any files transmitted with it from the ElPaso Corporation are confidential and intended solely for the use of the individual or entity to whom they are addressed. If you have received this email in error please notify the sender.','',regex = True) \n",
    "df['body'] = df['body'].replace(r'Sent from my BlackBerry Wireless Handheld www.BlackBerry.net','',regex = True)\n",
    "#join 2 caps together\n",
    "df['body'] = df['body'].replace(r'[A-Z](/s)[A-Z]','',regex = True)"
   ]
  },
  {
   "cell_type": "code",
   "execution_count": 23,
   "metadata": {},
   "outputs": [
    {
     "name": "stdout",
     "output_type": "stream",
     "text": [
      "Time to clean up everything: 5.96 mins\n"
     ]
    }
   ],
   "source": [
    "t = time()\n",
    "#remove document references\n",
    "df['body'] = df['body'].replace(r'([A-za-z0-9]+?.([Dd][Oo][Cc]|[Pp][Dd][Ff]|[Tt][Xx][Tt]|[Jj][Pp][Gg]|[Xx][Ll][Ss]))','',regex = True)\n",
    "#remove emails in line\n",
    "df['body'] = df['body'].replace(r'[\\w\\.-]+@[\\w\\.-]+','',regex = True)\n",
    "#remove time, various contact numbers.(added |\\d+ to remove digits for NLP processing, removed for data retrival purposes.)\n",
    "df['body'] = df['body'].replace(r'(\\d+:\\d+ [Aa][Mm])|(\\d+:\\d+ [Pp][Mm])|(\\d+:\\d+ [PpAa]\\.[Mm]\\.)|\\\\t|\\d+|Tel:|Fax:|Email:|[Rr][Ee]:|[Ff][Ww]:|[Tt][Oo]:',\n",
    "                                '',regex = True)\n",
    "df['body'] = df['body'].replace(r'[^A-Za-z0-9\\.\\']+',' ',regex = True)\n",
    "print('Time to clean up everything: {} mins'.format(round((time() - t) / 60, 2)))"
   ]
  },
  {
   "cell_type": "code",
   "execution_count": 27,
   "metadata": {},
   "outputs": [
    {
     "name": "stdout",
     "output_type": "stream",
     "text": [
      "number of rows: 473749\n",
      "number of bbc: 171\n",
      "number of sent users: 149\n"
     ]
    }
   ],
   "source": [
    "#checkpoint\n",
    "print('number of rows:',df.shape[0])\n",
    "print('number of bbc:',df[df.bcc!='None'].shape[0])\n",
    "print('number of sent users:',df[df.type=='sent']['user'].value_counts().shape[0])"
   ]
  },
  {
   "cell_type": "code",
   "execution_count": 25,
   "metadata": {},
   "outputs": [
    {
     "data": {
      "text/plain": [
       "16535"
      ]
     },
     "metadata": {},
     "output_type": "display_data"
    }
   ],
   "source": [
    "#emails longer than 1k words are mostly mailers and spam\n",
    "df['word_count']=df['body'].apply(lambda x: len(x.split(' ')))\n",
    "display(df[df['word_count']>1000].shape[0])\n",
    "\n",
    "#keep emails 5 - 999 words\n",
    "df=df[df['word_count']<1000]\n",
    "df=df[df['word_count']>4]"
   ]
  },
  {
   "cell_type": "code",
   "execution_count": 26,
   "metadata": {},
   "outputs": [],
   "source": [
    "#identify non-frequent senders - meaningfulness of contact.\n",
    "email_counts=df['from'].value_counts().rename('email_counts')\n",
    "\n",
    "df=df.merge(email_counts.to_frame(),\n",
    "             left_on='from',\n",
    "             right_index=True)\n",
    "\n",
    "#drop people who send less than 3 messages\n",
    "df=df[df['email_counts']>2]\n",
    "#df=df.drop(columns='email_counts')\n",
    "\n",
    "#Drop unnecessary columns\n",
    "df.reset_index(drop=True, inplace=True)\n",
    "df['body'] = df['body'].replace(r'\\.','',regex = True) "
   ]
  },
  {
   "cell_type": "code",
   "execution_count": 28,
   "metadata": {},
   "outputs": [],
   "source": [
    "df.to_csv('D:/Capstone/dataset/emails_total_preprocessed_raw.csv')"
   ]
  },
  {
   "cell_type": "code",
   "execution_count": null,
   "metadata": {},
   "outputs": [],
   "source": [
    "##NLP is done from documents 2-5.\n",
    "##Topic Attribution 6 & 7\n",
    "##Stats Extraction 8 (group level analytics)\n",
    "##Building N4J database 9\n",
    "##Identify Position of employees 10\n",
    "##Test relationships between degree, topics and position 11, 12\n",
    "##Individual Dashboarding"
   ]
  },
  {
   "cell_type": "code",
   "execution_count": null,
   "metadata": {},
   "outputs": [],
   "source": [
    "#Drop duplicate emails\n",
    "df.drop_duplicates(subset =\"body\", keep='first', inplace = True)\n",
    "print(df.shape)"
   ]
  },
  {
   "cell_type": "code",
   "execution_count": null,
   "metadata": {},
   "outputs": [],
   "source": [
    "#Checkpoint- Check bcc rows, check outbox.\n",
    "print(df.shape)\n",
    "print(df[df.bcc!='None'].shape)\n",
    "print(df[df.type=='sent']['user'].value_counts().shape)"
   ]
  },
  {
   "cell_type": "code",
   "execution_count": null,
   "metadata": {
    "scrolled": true
   },
   "outputs": [],
   "source": [
    "df.info()"
   ]
  },
  {
   "cell_type": "code",
   "execution_count": null,
   "metadata": {},
   "outputs": [],
   "source": [
    "df.to_csv('D:/Capstone/dataset/emails_v1.csv')"
   ]
  },
  {
   "cell_type": "code",
   "execution_count": null,
   "metadata": {},
   "outputs": [],
   "source": [
    "sample = df.sample(n=5000)\n",
    "sample.to_csv('D:/Capstone/dataset/Enronsamplev1.csv')"
   ]
  },
  {
   "cell_type": "code",
   "execution_count": null,
   "metadata": {},
   "outputs": [],
   "source": [
    "class StrToBytes:\n",
    "    def __init__(self, fileobj):\n",
    "        self.fileobj = fileobj\n",
    "    def read(self, size):\n",
    "        return self.fileobj.read(size).encode()\n",
    "    def readline(self, size=-1):\n",
    "        return self.fileobj.readline(size).encode()"
   ]
  },
  {
   "cell_type": "code",
   "execution_count": null,
   "metadata": {},
   "outputs": [],
   "source": [
    "### Load the dictionary containing the dataset\n",
    "with open('D:/Capstone/dataset/POI/final_project_dataset.pkl', 'r') as data_file:\n",
    "    data_dict = pickle.load(StrToBytes(data_file))\n",
    "\n",
    "# dict to dataframe\n",
    "df = pd.DataFrame.from_dict(data_dict, orient='index')\n",
    "df.replace('NaN', np.nan, inplace = True)"
   ]
  },
  {
   "cell_type": "code",
   "execution_count": null,
   "metadata": {
    "scrolled": false
   },
   "outputs": [],
   "source": [
    "df.to_csv('D:/Capstone/dataset/EnronEmployee.csv')\n",
    "print('Time to clean up everything: {} mins'.format(round((time() - tt) / 60, 2)))"
   ]
  },
  {
   "cell_type": "code",
   "execution_count": null,
   "metadata": {},
   "outputs": [],
   "source": []
  }
 ],
 "metadata": {
  "kernelspec": {
   "display_name": "Python 3",
   "language": "python",
   "name": "python3"
  },
  "language_info": {
   "codemirror_mode": {
    "name": "ipython",
    "version": 3
   },
   "file_extension": ".py",
   "mimetype": "text/x-python",
   "name": "python",
   "nbconvert_exporter": "python",
   "pygments_lexer": "ipython3",
   "version": "3.7.3"
  }
 },
 "nbformat": 4,
 "nbformat_minor": 2
}
