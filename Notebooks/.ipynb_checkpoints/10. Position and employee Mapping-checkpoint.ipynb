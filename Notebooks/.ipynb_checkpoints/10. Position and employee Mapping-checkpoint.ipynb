{
 "cells": [
  {
   "cell_type": "markdown",
   "metadata": {},
   "source": [
    "# Positions within the company\n",
    "\n",
    "This file was extracted online [here](http://www.inf.ed.ac.uk/teaching/courses/tts/assessed/roles.txt) and had to be cleaned up. there was also a file that contained payment amounts to them, but it was quite strange to use income as a basis for fraud. While i picked up the file, i did not subsequently used it. I did however use the file in the link above. \n",
    "\n",
    "In the positions file, we cleaned it a little from 12 positions down to 7. Because there were too few C suites to form any significant group. There was also a lawyer in that list of hundreds of people which was rather meaningless. \n",
    "\n",
    "I grouped everyone else as an employee since we are not privy to any other information withough an extensive online search which may not yield results.\n",
    "\n",
    "As this is a secondary data set, we may not have overlaps with the 500k emails and 150 users. However, this should give us a substantial insight for the overlap of these two datasets. "
   ]
  },
  {
   "cell_type": "code",
   "execution_count": 1,
   "metadata": {},
   "outputs": [],
   "source": [
    "import numpy as np \n",
    "import pandas as pd\n",
    "import pickle"
   ]
  },
  {
   "cell_type": "code",
   "execution_count": 2,
   "metadata": {},
   "outputs": [],
   "source": [
    "position = pd.read_csv('D:/Github/DSI8_Alpha/project-capstone/Enron Analysis/Resource/Employeestate.csv')\n",
    "alias=pd.read_csv('D:/Capstone/dataset/database/N4J/alias.csv')\n",
    "alias.drop(columns = 'Unnamed: 0',inplace=True)"
   ]
  },
  {
   "cell_type": "code",
   "execution_count": 3,
   "metadata": {},
   "outputs": [],
   "source": [
    "class StrToBytes:\n",
    "    def __init__(self, fileobj):\n",
    "        self.fileobj = fileobj\n",
    "    def read(self, size):\n",
    "        return self.fileobj.read(size).encode()\n",
    "    def readline(self, size=-1):\n",
    "        return self.fileobj.readline(size).encode()\n",
    "\n",
    "### Load the dictionary containing the dataset\n",
    "with open('D:/Github/DSI8_Alpha/project-capstone/Enron Analysis/Resource/final_project_dataset.pkl', 'r') as data_file:\n",
    "    data_dict = pickle.load(StrToBytes(data_file))\n",
    "\n",
    "# dict to dataframe\n",
    "df = pd.DataFrame.from_dict(data_dict, orient='index')\n",
    "df.replace('NaN', np.nan, inplace = True)"
   ]
  },
  {
   "cell_type": "code",
   "execution_count": 4,
   "metadata": {},
   "outputs": [],
   "source": [
    "df.drop(columns=[ 'to_messages', 'deferral_payments',\n",
    "       'loan_advances', 'restricted_stock_deferred',\n",
    "       'deferred_income', 'total_stock_value', 'expenses',\n",
    "       'from_poi_to_this_person', 'exercised_stock_options', 'from_messages',\n",
    "       'other', 'from_this_person_to_poi', 'poi', 'long_term_incentive',\n",
    "       'shared_receipt_with_poi', 'restricted_stock','director_fees'],inplace=True)"
   ]
  },
  {
   "cell_type": "code",
   "execution_count": 5,
   "metadata": {},
   "outputs": [],
   "source": [
    "df.dropna(subset=['email_address'],inplace=True)"
   ]
  },
  {
   "cell_type": "code",
   "execution_count": 6,
   "metadata": {},
   "outputs": [],
   "source": [
    "df=df[np.isfinite(df['salary'])]"
   ]
  },
  {
   "cell_type": "code",
   "execution_count": 7,
   "metadata": {},
   "outputs": [],
   "source": [
    "df.to_csv('D:/Capstone/dataset/support_files/employee_inc.csv')"
   ]
  },
  {
   "cell_type": "code",
   "execution_count": 8,
   "metadata": {},
   "outputs": [
    {
     "data": {
      "text/html": [
       "<div>\n",
       "<style scoped>\n",
       "    .dataframe tbody tr th:only-of-type {\n",
       "        vertical-align: middle;\n",
       "    }\n",
       "\n",
       "    .dataframe tbody tr th {\n",
       "        vertical-align: top;\n",
       "    }\n",
       "\n",
       "    .dataframe thead th {\n",
       "        text-align: right;\n",
       "    }\n",
       "</style>\n",
       "<table border=\"1\" class=\"dataframe\">\n",
       "  <thead>\n",
       "    <tr style=\"text-align: right;\">\n",
       "      <th></th>\n",
       "      <th>from_clean</th>\n",
       "      <th>user</th>\n",
       "      <th>eid</th>\n",
       "      <th>uuid</th>\n",
       "      <th>alias</th>\n",
       "    </tr>\n",
       "  </thead>\n",
       "  <tbody>\n",
       "    <tr>\n",
       "      <th>0</th>\n",
       "      <td>phillip.allen@enron.com</td>\n",
       "      <td>allen-p</td>\n",
       "      <td>0</td>\n",
       "      <td>0</td>\n",
       "      <td>phillip.allen</td>\n",
       "    </tr>\n",
       "    <tr>\n",
       "      <th>1</th>\n",
       "      <td>k..allen@enron.com</td>\n",
       "      <td>allen-p</td>\n",
       "      <td>120</td>\n",
       "      <td>0</td>\n",
       "      <td>k..allen</td>\n",
       "    </tr>\n",
       "    <tr>\n",
       "      <th>2</th>\n",
       "      <td>jeff.dasovich@enron.com</td>\n",
       "      <td>dasovich-j</td>\n",
       "      <td>376</td>\n",
       "      <td>1</td>\n",
       "      <td>jeff.dasovich</td>\n",
       "    </tr>\n",
       "    <tr>\n",
       "      <th>3</th>\n",
       "      <td>frank.ermis@enron.com</td>\n",
       "      <td>ermis-f</td>\n",
       "      <td>2872</td>\n",
       "      <td>2</td>\n",
       "      <td>frank.ermis</td>\n",
       "    </tr>\n",
       "    <tr>\n",
       "      <th>4</th>\n",
       "      <td>mike.grigsby@enron.com</td>\n",
       "      <td>grigsby-m</td>\n",
       "      <td>56</td>\n",
       "      <td>3</td>\n",
       "      <td>mike.grigsby</td>\n",
       "    </tr>\n",
       "  </tbody>\n",
       "</table>\n",
       "</div>"
      ],
      "text/plain": [
       "                from_clean        user   eid  uuid          alias\n",
       "0  phillip.allen@enron.com     allen-p     0     0  phillip.allen\n",
       "1       k..allen@enron.com     allen-p   120     0       k..allen\n",
       "2  jeff.dasovich@enron.com  dasovich-j   376     1  jeff.dasovich\n",
       "3    frank.ermis@enron.com     ermis-f  2872     2    frank.ermis\n",
       "4   mike.grigsby@enron.com   grigsby-m    56     3   mike.grigsby"
      ]
     },
     "execution_count": 8,
     "metadata": {},
     "output_type": "execute_result"
    }
   ],
   "source": [
    "alias['alias']=alias['from_clean'].str.extract(r\"(.*?)@\")\n",
    "alias.head()"
   ]
  },
  {
   "cell_type": "code",
   "execution_count": 9,
   "metadata": {},
   "outputs": [],
   "source": [
    "position=position.iloc[:,0:4]"
   ]
  },
  {
   "cell_type": "code",
   "execution_count": 10,
   "metadata": {},
   "outputs": [
    {
     "name": "stdout",
     "output_type": "stream",
     "text": [
      "180\n",
      "212\n",
      "149\n"
     ]
    }
   ],
   "source": [
    "position_alias = position.alias.unique().tolist()\n",
    "\n",
    "print(len(position.alias.unique().tolist()))\n",
    "print(len(alias.alias.unique().tolist()))\n",
    "print(len(alias.uuid.unique().tolist()))"
   ]
  },
  {
   "cell_type": "code",
   "execution_count": 11,
   "metadata": {},
   "outputs": [],
   "source": [
    "position = position.merge(alias, on ='alias')"
   ]
  },
  {
   "cell_type": "code",
   "execution_count": 12,
   "metadata": {},
   "outputs": [
    {
     "name": "stdout",
     "output_type": "stream",
     "text": [
      "138\n",
      "173\n",
      "149\n"
     ]
    }
   ],
   "source": [
    "print(len(position.uuid.unique().tolist()))\n",
    "print(len(position.alias.unique().tolist()))\n",
    "print(len(alias.uuid.unique().tolist()))"
   ]
  },
  {
   "cell_type": "code",
   "execution_count": 13,
   "metadata": {},
   "outputs": [
    {
     "data": {
      "text/html": [
       "<div>\n",
       "<style scoped>\n",
       "    .dataframe tbody tr th:only-of-type {\n",
       "        vertical-align: middle;\n",
       "    }\n",
       "\n",
       "    .dataframe tbody tr th {\n",
       "        vertical-align: top;\n",
       "    }\n",
       "\n",
       "    .dataframe thead th {\n",
       "        text-align: right;\n",
       "    }\n",
       "</style>\n",
       "<table border=\"1\" class=\"dataframe\">\n",
       "  <thead>\n",
       "    <tr style=\"text-align: right;\">\n",
       "      <th></th>\n",
       "      <th>alias</th>\n",
       "      <th>first_name</th>\n",
       "      <th>last_name</th>\n",
       "      <th>position</th>\n",
       "      <th>from_clean</th>\n",
       "      <th>user</th>\n",
       "      <th>eid</th>\n",
       "      <th>uuid</th>\n",
       "    </tr>\n",
       "  </thead>\n",
       "  <tbody>\n",
       "    <tr>\n",
       "      <th>0</th>\n",
       "      <td>albert.meyers</td>\n",
       "      <td>Albert</td>\n",
       "      <td>Meyers</td>\n",
       "      <td>Employee</td>\n",
       "      <td>albert.meyers@enron.com</td>\n",
       "      <td>meyers-a</td>\n",
       "      <td>2652</td>\n",
       "      <td>86</td>\n",
       "    </tr>\n",
       "    <tr>\n",
       "      <th>1</th>\n",
       "      <td>a..martin</td>\n",
       "      <td>Thomas</td>\n",
       "      <td>Martin</td>\n",
       "      <td>Vice President</td>\n",
       "      <td>a..martin@enron.com</td>\n",
       "      <td>martin-t</td>\n",
       "      <td>588</td>\n",
       "      <td>29</td>\n",
       "    </tr>\n",
       "    <tr>\n",
       "      <th>2</th>\n",
       "      <td>andrea.ring</td>\n",
       "      <td>Andrea</td>\n",
       "      <td>Ring</td>\n",
       "      <td>Employee</td>\n",
       "      <td>andrea.ring@enron.com</td>\n",
       "      <td>ring-a</td>\n",
       "      <td>1461</td>\n",
       "      <td>79</td>\n",
       "    </tr>\n",
       "    <tr>\n",
       "      <th>3</th>\n",
       "      <td>andrew.lewis</td>\n",
       "      <td>Andrew</td>\n",
       "      <td>Lewis</td>\n",
       "      <td>Director</td>\n",
       "      <td>andrew.lewis@enron.com</td>\n",
       "      <td>lewis-a</td>\n",
       "      <td>5452</td>\n",
       "      <td>27</td>\n",
       "    </tr>\n",
       "    <tr>\n",
       "      <th>4</th>\n",
       "      <td>andy.zipper</td>\n",
       "      <td>Andy</td>\n",
       "      <td>Zipper</td>\n",
       "      <td>Vice President</td>\n",
       "      <td>andy.zipper@enron.com</td>\n",
       "      <td>zipper-a</td>\n",
       "      <td>145</td>\n",
       "      <td>43</td>\n",
       "    </tr>\n",
       "  </tbody>\n",
       "</table>\n",
       "</div>"
      ],
      "text/plain": [
       "           alias first_name last_name        position  \\\n",
       "0  albert.meyers     Albert    Meyers        Employee   \n",
       "1      a..martin     Thomas    Martin  Vice President   \n",
       "2    andrea.ring     Andrea      Ring        Employee   \n",
       "3   andrew.lewis     Andrew     Lewis        Director   \n",
       "4    andy.zipper       Andy    Zipper  Vice President   \n",
       "\n",
       "                from_clean      user   eid  uuid  \n",
       "0  albert.meyers@enron.com  meyers-a  2652    86  \n",
       "1      a..martin@enron.com  martin-t   588    29  \n",
       "2    andrea.ring@enron.com    ring-a  1461    79  \n",
       "3   andrew.lewis@enron.com   lewis-a  5452    27  \n",
       "4    andy.zipper@enron.com  zipper-a   145    43  "
      ]
     },
     "execution_count": 13,
     "metadata": {},
     "output_type": "execute_result"
    }
   ],
   "source": [
    "position.head()"
   ]
  },
  {
   "cell_type": "code",
   "execution_count": 14,
   "metadata": {
    "scrolled": false
   },
   "outputs": [],
   "source": [
    "position=position.fillna('Employee')"
   ]
  },
  {
   "cell_type": "code",
   "execution_count": 15,
   "metadata": {
    "scrolled": true
   },
   "outputs": [
    {
     "name": "stdout",
     "output_type": "stream",
     "text": [
      "<class 'pandas.core.frame.DataFrame'>\n",
      "Int64Index: 175 entries, 0 to 174\n",
      "Data columns (total 8 columns):\n",
      "alias         175 non-null object\n",
      "first_name    175 non-null object\n",
      "last_name     175 non-null object\n",
      "position      175 non-null object\n",
      "from_clean    175 non-null object\n",
      "user          175 non-null object\n",
      "eid           175 non-null int64\n",
      "uuid          175 non-null int64\n",
      "dtypes: int64(2), object(6)\n",
      "memory usage: 12.3+ KB\n"
     ]
    }
   ],
   "source": [
    "position.info()"
   ]
  },
  {
   "cell_type": "code",
   "execution_count": 16,
   "metadata": {},
   "outputs": [
    {
     "data": {
      "text/plain": [
       "Index(['alias', 'first_name', 'last_name', 'position', 'from_clean', 'user',\n",
       "       'eid', 'uuid'],\n",
       "      dtype='object')"
      ]
     },
     "execution_count": 16,
     "metadata": {},
     "output_type": "execute_result"
    }
   ],
   "source": [
    "position.columns\n"
   ]
  },
  {
   "cell_type": "code",
   "execution_count": 17,
   "metadata": {},
   "outputs": [],
   "source": [
    "position.columns =(['alias', 'first_name', 'last_name', 'position', 'address', 'user',\n",
    "       'eid', 'uuid'])"
   ]
  },
  {
   "cell_type": "code",
   "execution_count": 18,
   "metadata": {
    "scrolled": true
   },
   "outputs": [
    {
     "data": {
      "text/plain": [
       "['Employee',\n",
       " 'Vice President',\n",
       " 'Director',\n",
       " 'President',\n",
       " 'Manager',\n",
       " 'Trader',\n",
       " 'CEO',\n",
       " 'Managing Director',\n",
       " 'Lawyer',\n",
       " 'CRO',\n",
       " 'COO',\n",
       " 'Managing']"
      ]
     },
     "execution_count": 18,
     "metadata": {},
     "output_type": "execute_result"
    }
   ],
   "source": [
    "position.position.unique().tolist()"
   ]
  },
  {
   "cell_type": "code",
   "execution_count": 19,
   "metadata": {
    "scrolled": true
   },
   "outputs": [
    {
     "name": "stderr",
     "output_type": "stream",
     "text": [
      "C:\\Anaconda3\\envs\\Deeplearning2\\lib\\site-packages\\ipykernel_launcher.py:5: SettingWithCopyWarning: \n",
      "A value is trying to be set on a copy of a slice from a DataFrame\n",
      "\n",
      "See the caveats in the documentation: http://pandas.pydata.org/pandas-docs/stable/indexing.html#indexing-view-versus-copy\n",
      "  \"\"\"\n",
      "C:\\Anaconda3\\envs\\Deeplearning2\\lib\\site-packages\\ipykernel_launcher.py:10: SettingWithCopyWarning: \n",
      "A value is trying to be set on a copy of a slice from a DataFrame\n",
      "\n",
      "See the caveats in the documentation: http://pandas.pydata.org/pandas-docs/stable/indexing.html#indexing-view-versus-copy\n",
      "  # Remove the CWD from sys.path while we load stuff.\n"
     ]
    }
   ],
   "source": [
    "tochange=[ 'CEO', 'CRO', 'COO','Managing Director','Managing']\n",
    "for i in range(len(position)):\n",
    "    for c in tochange:\n",
    "        if position.position[i] == c:\n",
    "            position.position[i]= 'Csuite' \n",
    "tochange=[ 'Lawyer']\n",
    "for i in range(len(position)):\n",
    "    for c in tochange:\n",
    "        if position.position[i] == c:\n",
    "            position.position[i]= 'Employee' "
   ]
  },
  {
   "cell_type": "code",
   "execution_count": 24,
   "metadata": {
    "scrolled": false
   },
   "outputs": [],
   "source": [
    "position.to_csv('D:/Capstone/dataset/support_files/employee_pos.csv')"
   ]
  }
 ],
 "metadata": {
  "kernelspec": {
   "display_name": "Python 3",
   "language": "python",
   "name": "python3"
  },
  "language_info": {
   "codemirror_mode": {
    "name": "ipython",
    "version": 3
   },
   "file_extension": ".py",
   "mimetype": "text/x-python",
   "name": "python",
   "nbconvert_exporter": "python",
   "pygments_lexer": "ipython3",
   "version": "3.7.3"
  }
 },
 "nbformat": 4,
 "nbformat_minor": 2
}
