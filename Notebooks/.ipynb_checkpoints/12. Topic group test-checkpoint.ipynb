{
 "cells": [
  {
   "cell_type": "markdown",
   "metadata": {},
   "source": [
    "# Testing topical differences.\n",
    "\n",
    "This notebook was created to assess the differences between each position type against the overall. We used student's t-test which assesses the signficant differences of mean. and chi-square which assess significant differences between the expected frequencies and the observed frequencies in one or more categories.\n",
    "\n",
    "***Results***\n",
    "\n",
    "**t-test**\n",
    "\n",
    "reject null hypothesis for:\n",
    "\n",
    "1) topic 0 for Presidents\n",
    "2) topic 2 for Employees\n",
    "\n",
    "**chi2 test**\n",
    "\n",
    "reject null hypothesis for:\n",
    "\n",
    "1) Presidents"
   ]
  },
  {
   "cell_type": "code",
   "execution_count": 114,
   "metadata": {},
   "outputs": [],
   "source": [
    "import numpy as np\n",
    "import pandas as pd\n",
    "import seaborn as sns\n",
    "from scipy import stats\n",
    "from statsmodels.stats import weightstats as stests\n",
    "import pickle"
   ]
  },
  {
   "cell_type": "code",
   "execution_count": 2,
   "metadata": {},
   "outputs": [],
   "source": [
    "#t-test check if difference in each group is significant. \n",
    "#1 group = 1 class of employees \n",
    "#1 class = 5 topics\n",
    "#we shall review on totals basis\n",
    "#base data = all data (sent & received by INTERNAL employees)\n",
    "df       = pd.read_pickle('D:/Capstone/dataset/database/messages_combined_reduced.pkl')\n",
    "alias    = pd.read_csv('D:/Capstone/dataset/database/N4J/alias.csv')\n",
    "position = pd.read_csv('D:/Capstone/dataset/support_files/employee_pos.csv')\n",
    "df_email=pd.read_csv('D:/Capstone/dataset/database/df_email.csv')\n",
    "df_email.drop(columns =['Unnamed: 0'],inplace=True)\n",
    "alias.drop(columns =['Unnamed: 0','from_clean'],inplace=True)\n",
    "position.drop(columns =['Unnamed: 0','first_name','last_name'],inplace=True)\n",
    "df['date']=df['date'].dt.strftime('%d/%m/%Y')"
   ]
  },
  {
   "cell_type": "code",
   "execution_count": 3,
   "metadata": {},
   "outputs": [],
   "source": [
    "#merge position to alias\n",
    "alias=alias.merge(position[['position','eid','address']], on='eid', how='left')\n",
    "#drop na values since we cannot use them for analysis. \n",
    "alias.dropna(inplace=True)"
   ]
  },
  {
   "cell_type": "code",
   "execution_count": 163,
   "metadata": {},
   "outputs": [],
   "source": [
    "#create df with all topic percentages on all emails, we would call them individually later.\n",
    "def email_date_total(df, ueid,sdate,edate, topic_list='default',percent=False,id_type='eid'):\n",
    "    if topic_list == 'default':\n",
    "        topic_list = ['topic_0', 'topic_1', 'topic_2', 'topic_3', 'topic_4', 'topic_5']\n",
    "    else:\n",
    "        topic_list = topic_list\n",
    "    \n",
    "    topic_count_sent=[]\n",
    "    topic_count_received=[]\n",
    "    sdate=pd.to_datetime(sdate)\n",
    "    edate=pd.to_datetime(edate)\n",
    "    if id_type=='eid':\n",
    "        for t in topic_list:\n",
    "            s = len(df[(df['eid']==ueid) & (df['type']=='sent') & \n",
    "                    (df['topic']==t) & (df['date'] > sdate) & (df['date'] <= edate)])\n",
    "            topic_count_sent.append(s)\n",
    "            r = len(df[(df['eid']==ueid) & (df['type']=='received') & \n",
    "                    (df['topic']==t) & (df['date'] > sdate) & (df['date'] <= edate)])\n",
    "            topic_count_received.append(r)\n",
    "        total_received = sum(topic_count_received)\n",
    "        total_sent = sum(topic_count_sent)\n",
    "        total = total_sent+total_received\n",
    "        topic_count_total = [sum(x)for x in zip(topic_count_sent,topic_count_received)]\n",
    "        if percent == True:\n",
    "            topic_count_total = [0 if total == 0 else round((tt/total)*100,2) for tt in topic_count_total]\n",
    "            topic_list.append('eid')\n",
    "            topic_count_total.append(ueid)\n",
    "            result = pd.DataFrame({ueid:topic_count_total})\n",
    "        else:\n",
    "            topic_count_received.append(total_received)\n",
    "            topic_count_sent.append(total_sent)\n",
    "            total=[sum(x) for x in zip(topic_count_sent,topic_count_received)]\n",
    "            topic_list.append('eid')\n",
    "            total.append(ueid)\n",
    "            result = pd.DataFrame({ueid:total})\n",
    "    if id_type=='uuid':\n",
    "        for t in topic_list:\n",
    "            s = len(df[(df['uuid']==ueid) & (df['type']=='sent') & \n",
    "                    (df['topic']==t) & (df['date'] > sdate) & (df['date'] <= edate)])\n",
    "            topic_count_sent.append(s)\n",
    "            r = len(df[(df['uuid']==ueid) & (df['type']=='received') & \n",
    "                    (df['topic']==t) & (df['date'] > sdate) & (df['date'] <= edate)])\n",
    "            topic_count_received.append(r)\n",
    "        total_received = sum(topic_count_received)\n",
    "        total_sent = sum(topic_count_sent)\n",
    "        total = total_sent+total_received\n",
    "        topic_count_total = [sum(x)for x in zip(topic_count_sent,topic_count_received)]\n",
    "        if percent == True:\n",
    "            topic_count_total = [0 if total == 0 else round((tt/total)*100,2) for tt in topic_count_total]\n",
    "            topic_list.append('uuid')\n",
    "            topic_count_total.append(ueid)\n",
    "            result = pd.DataFrame({ueid:topic_count_total})\n",
    "        else:\n",
    "            topic_count_received.append(total_received)\n",
    "            topic_count_sent.append(total_sent)\n",
    "            total=[sum(x) for x in zip(topic_count_sent,topic_count_received)]\n",
    "            topic_list.append('uuid')\n",
    "            total.append(ueid)\n",
    "            result = pd.DataFrame({ueid:total})\n",
    "    result = result.T\n",
    "    result.columns=(topic_list)\n",
    "    return result"
   ]
  },
  {
   "cell_type": "code",
   "execution_count": 159,
   "metadata": {},
   "outputs": [],
   "source": [
    "#create df with all topic percentages on all emails, we would call them individually later.\n",
    "def email_topics_total(df, ueid, topic_list='default',percent=False,id_type='eid'):\n",
    "    if topic_list == 'default':\n",
    "        topic_list = ['topic_0', 'topic_1', 'topic_2', 'topic_3', 'topic_4', 'topic_5']\n",
    "    else:\n",
    "        topic_list = topic_list\n",
    "    topic_count_sent=[]\n",
    "    topic_count_received=[]\n",
    "    \n",
    "    if id_type=='eid':\n",
    "        for t in topic_list:\n",
    "            s = len(df[(df['eid']==ueid) & (df['type']=='sent') & \n",
    "                    (df['topic']==t)])\n",
    "            topic_count_sent.append(s)\n",
    "            r = len(df[(df['eid']==ueid) & (df['type']=='received') & \n",
    "                    (df['topic']==t)])\n",
    "            topic_count_received.append(r)\n",
    "        total_received = sum(topic_count_received)\n",
    "        total_sent = sum(topic_count_sent)\n",
    "        total = total_sent+total_received\n",
    "        topic_count_total = [sum(x)for x in zip(topic_count_sent,topic_count_received)]\n",
    "        if percent == True:\n",
    "            topic_count_total = [0 if total == 0 else round((tt/total)*100,2) for tt in topic_count_total]\n",
    "            topic_list.append('eid')\n",
    "            topic_count_total.append(ueid)\n",
    "            result = pd.DataFrame({ueid:topic_count_total})\n",
    "        else:\n",
    "            topic_count_received.append(total_received)\n",
    "            topic_count_sent.append(total_sent)\n",
    "            total=[sum(x) for x in zip(topic_count_sent,topic_count_received)]\n",
    "            topic_list.append('eid')\n",
    "            total.append(ueid)\n",
    "            result = pd.DataFrame({ueid:total})\n",
    "    if id_type=='uuid':\n",
    "        for t in topic_list:\n",
    "            s = len(df[(df['uuid']==ueid) & (df['type']=='sent') & \n",
    "                    (df['topic']==t)])\n",
    "            topic_count_sent.append(s)\n",
    "            r = len(df[(df['uuid']==ueid) & (df['type']=='received') & \n",
    "                    (df['topic']==t)])\n",
    "            topic_count_received.append(r)\n",
    "        total_received = sum(topic_count_received)\n",
    "        total_sent = sum(topic_count_sent)\n",
    "        total = total_sent+total_received\n",
    "        topic_count_total = [sum(x)for x in zip(topic_count_sent,topic_count_received)]\n",
    "        if percent == True:\n",
    "            topic_count_total = [0 if total == 0 else round((tt/total)*100,2) for tt in topic_count_total]\n",
    "            topic_list.append('uuid')\n",
    "            topic_count_total.append(ueid)\n",
    "            result = pd.DataFrame({ueid:topic_count_total})\n",
    "        else:\n",
    "            topic_count_received.append(total_received)\n",
    "            topic_count_sent.append(total_sent)\n",
    "            total=[sum(x) for x in zip(topic_count_sent,topic_count_received)]\n",
    "            topic_list.append('uuid')\n",
    "            total.append(ueid)\n",
    "            result = pd.DataFrame({ueid:total})\n",
    "    result = result.T\n",
    "    result.columns=(topic_list)\n",
    "    return result"
   ]
  },
  {
   "cell_type": "code",
   "execution_count": 5,
   "metadata": {},
   "outputs": [],
   "source": [
    "e_list = df_email.eid.unique().tolist()"
   ]
  },
  {
   "cell_type": "code",
   "execution_count": 7,
   "metadata": {
    "scrolled": true
   },
   "outputs": [],
   "source": [
    "df_topic_total =pd.DataFrame()\n",
    "for e in e_list:\n",
    "    frame=email_topics_total(df,e,percent=True)\n",
    "    df_topic_total = pd.concat([df_topic_total,frame])"
   ]
  },
  {
   "cell_type": "code",
   "execution_count": 13,
   "metadata": {},
   "outputs": [],
   "source": [
    "df_topic_total['check']=df_topic_total.drop(columns=['eid']).sum(axis=1)"
   ]
  },
  {
   "cell_type": "code",
   "execution_count": 16,
   "metadata": {},
   "outputs": [],
   "source": [
    "df_topic_total=df_topic_total[df_topic_total.check != 0]"
   ]
  },
  {
   "cell_type": "code",
   "execution_count": 18,
   "metadata": {},
   "outputs": [
    {
     "name": "stderr",
     "output_type": "stream",
     "text": [
      "C:\\Anaconda3\\envs\\Deeplearning2\\lib\\site-packages\\pandas\\core\\frame.py:3940: SettingWithCopyWarning: \n",
      "A value is trying to be set on a copy of a slice from a DataFrame\n",
      "\n",
      "See the caveats in the documentation: http://pandas.pydata.org/pandas-docs/stable/indexing.html#indexing-view-versus-copy\n",
      "  errors=errors)\n"
     ]
    }
   ],
   "source": [
    "df_topic_total.drop(columns = 'check',inplace=True)"
   ]
  },
  {
   "cell_type": "code",
   "execution_count": 19,
   "metadata": {},
   "outputs": [],
   "source": [
    "df_topic_total.to_pickle('D:/Capstone/dataset/support_files/employee_topics.pkl')"
   ]
  },
  {
   "cell_type": "code",
   "execution_count": 23,
   "metadata": {},
   "outputs": [],
   "source": [
    "df_topic_total=df_topic_total.merge(position[['position','address','user','uuid']], on='eid',how='left')"
   ]
  },
  {
   "cell_type": "code",
   "execution_count": 69,
   "metadata": {},
   "outputs": [],
   "source": [
    "#df_topic_total.drop(columns=['alias'],inplace=True)"
   ]
  },
  {
   "cell_type": "code",
   "execution_count": 71,
   "metadata": {},
   "outputs": [],
   "source": [
    "topic_list = ['topic_0', 'topic_1', 'topic_2', 'topic_3', 'topic_4', 'topic_5']\n",
    "for i in topic_list:\n",
    "    df_topic_total[i]=stats.zscore(df_topic_total[i])"
   ]
  },
  {
   "cell_type": "code",
   "execution_count": 79,
   "metadata": {},
   "outputs": [],
   "source": [
    "groups= [i for i in df_topic_total.position.unique().tolist() if type(i) is str]"
   ]
  },
  {
   "cell_type": "code",
   "execution_count": 67,
   "metadata": {},
   "outputs": [
    {
     "data": {
      "text/plain": [
       "<matplotlib.axes._subplots.AxesSubplot at 0x209181ec780>"
      ]
     },
     "execution_count": 67,
     "metadata": {},
     "output_type": "execute_result"
    },
    {
     "data": {
      "image/png": "[encoded data removed]",
      "text/plain": [
       "<Figure size 432x288 with 1 Axes>"
      ]
     },
     "metadata": {
      "needs_background": "light"
     },
     "output_type": "display_data"
    }
   ],
   "source": [
    "sns.distplot(stats.zscore(df_topic_total.topic_0), kde=False,bins=5)"
   ]
  },
  {
   "cell_type": "code",
   "execution_count": 108,
   "metadata": {},
   "outputs": [],
   "source": [
    "def ztest_result(df,col,feature,criteria):\n",
    "    ztest ,pval = stests.ztest(df[col], x2=df[(df[feature]== criteria)][col], value=0,alternative='two-sided')\n",
    "    if pval<0.05:\n",
    "        return(\"reject null hypothesis\",pval)\n",
    "    else:\n",
    "        return(\"Fail to reject null hypothesis\",pval)"
   ]
  },
  {
   "cell_type": "code",
   "execution_count": 109,
   "metadata": {},
   "outputs": [],
   "source": [
    "results_table=pd.DataFrame()\n",
    "\n",
    "for g in groups:\n",
    "    topics=[]\n",
    "    for t in topic_list:\n",
    "        results = ztest_result(df_topic_total,t,'position',g)\n",
    "        topics.append(results)\n",
    "    results_table[g]=topics"
   ]
  },
  {
   "cell_type": "code",
   "execution_count": 110,
   "metadata": {},
   "outputs": [
    {
     "data": {
      "text/html": [
       "<div>\n",
       "<style scoped>\n",
       "    .dataframe tbody tr th:only-of-type {\n",
       "        vertical-align: middle;\n",
       "    }\n",
       "\n",
       "    .dataframe tbody tr th {\n",
       "        vertical-align: top;\n",
       "    }\n",
       "\n",
       "    .dataframe thead th {\n",
       "        text-align: right;\n",
       "    }\n",
       "</style>\n",
       "<table border=\"1\" class=\"dataframe\">\n",
       "  <thead>\n",
       "    <tr style=\"text-align: right;\">\n",
       "      <th></th>\n",
       "      <th>Manager</th>\n",
       "      <th>Employee</th>\n",
       "      <th>Vice President</th>\n",
       "      <th>Director</th>\n",
       "      <th>President</th>\n",
       "      <th>Csuite</th>\n",
       "      <th>Trader</th>\n",
       "    </tr>\n",
       "  </thead>\n",
       "  <tbody>\n",
       "    <tr>\n",
       "      <th>0</th>\n",
       "      <td>(Fail to reject null hypothesis, 0.57016667060...</td>\n",
       "      <td>(Fail to reject null hypothesis, 0.24114896486...</td>\n",
       "      <td>(Fail to reject null hypothesis, 0.35492306674...</td>\n",
       "      <td>(Fail to reject null hypothesis, 0.72353487333...</td>\n",
       "      <td>(Fail to reject null hypothesis, 0.55806479950...</td>\n",
       "      <td>(reject null hypothesis, 0.031294641931048243)</td>\n",
       "      <td>(Fail to reject null hypothesis, 0.92405297435...</td>\n",
       "    </tr>\n",
       "    <tr>\n",
       "      <th>1</th>\n",
       "      <td>(Fail to reject null hypothesis, 0.43569833728...</td>\n",
       "      <td>(Fail to reject null hypothesis, 0.19877704938...</td>\n",
       "      <td>(Fail to reject null hypothesis, 0.22481596597...</td>\n",
       "      <td>(Fail to reject null hypothesis, 0.86402214599...</td>\n",
       "      <td>(Fail to reject null hypothesis, 0.60707778668...</td>\n",
       "      <td>(Fail to reject null hypothesis, 0.21062540255...</td>\n",
       "      <td>(Fail to reject null hypothesis, 0.40829075177...</td>\n",
       "    </tr>\n",
       "    <tr>\n",
       "      <th>2</th>\n",
       "      <td>(Fail to reject null hypothesis, 0.81119766877...</td>\n",
       "      <td>(reject null hypothesis, 0.015786738167671864)</td>\n",
       "      <td>(Fail to reject null hypothesis, 0.94044115678...</td>\n",
       "      <td>(Fail to reject null hypothesis, 0.62606435912...</td>\n",
       "      <td>(Fail to reject null hypothesis, 0.97752050806...</td>\n",
       "      <td>(Fail to reject null hypothesis, 0.96713272400...</td>\n",
       "      <td>(Fail to reject null hypothesis, 0.80642388938...</td>\n",
       "    </tr>\n",
       "    <tr>\n",
       "      <th>3</th>\n",
       "      <td>(Fail to reject null hypothesis, 0.51293423292...</td>\n",
       "      <td>(Fail to reject null hypothesis, 0.74750728057...</td>\n",
       "      <td>(Fail to reject null hypothesis, 0.57278207838...</td>\n",
       "      <td>(Fail to reject null hypothesis, 0.45727659148...</td>\n",
       "      <td>(Fail to reject null hypothesis, 0.24755473181...</td>\n",
       "      <td>(Fail to reject null hypothesis, 0.70040625637...</td>\n",
       "      <td>(Fail to reject null hypothesis, 0.40829855378...</td>\n",
       "    </tr>\n",
       "    <tr>\n",
       "      <th>4</th>\n",
       "      <td>(Fail to reject null hypothesis, 0.22603636978...</td>\n",
       "      <td>(Fail to reject null hypothesis, 0.67530037796...</td>\n",
       "      <td>(Fail to reject null hypothesis, 0.10282680974...</td>\n",
       "      <td>(Fail to reject null hypothesis, 0.34052255287...</td>\n",
       "      <td>(Fail to reject null hypothesis, 0.13520433678...</td>\n",
       "      <td>(Fail to reject null hypothesis, 0.47547207282...</td>\n",
       "      <td>(Fail to reject null hypothesis, 0.84414459735...</td>\n",
       "    </tr>\n",
       "    <tr>\n",
       "      <th>5</th>\n",
       "      <td>(Fail to reject null hypothesis, 0.89543874442...</td>\n",
       "      <td>(Fail to reject null hypothesis, 0.24887134234...</td>\n",
       "      <td>(Fail to reject null hypothesis, 0.58316012258...</td>\n",
       "      <td>(Fail to reject null hypothesis, 0.98265029174...</td>\n",
       "      <td>(Fail to reject null hypothesis, 0.77834992010...</td>\n",
       "      <td>(Fail to reject null hypothesis, 0.79916468656...</td>\n",
       "      <td>(Fail to reject null hypothesis, 0.60946365089...</td>\n",
       "    </tr>\n",
       "  </tbody>\n",
       "</table>\n",
       "</div>"
      ],
      "text/plain": [
       "                                             Manager  \\\n",
       "0  (Fail to reject null hypothesis, 0.57016667060...   \n",
       "1  (Fail to reject null hypothesis, 0.43569833728...   \n",
       "2  (Fail to reject null hypothesis, 0.81119766877...   \n",
       "3  (Fail to reject null hypothesis, 0.51293423292...   \n",
       "4  (Fail to reject null hypothesis, 0.22603636978...   \n",
       "5  (Fail to reject null hypothesis, 0.89543874442...   \n",
       "\n",
       "                                            Employee  \\\n",
       "0  (Fail to reject null hypothesis, 0.24114896486...   \n",
       "1  (Fail to reject null hypothesis, 0.19877704938...   \n",
       "2     (reject null hypothesis, 0.015786738167671864)   \n",
       "3  (Fail to reject null hypothesis, 0.74750728057...   \n",
       "4  (Fail to reject null hypothesis, 0.67530037796...   \n",
       "5  (Fail to reject null hypothesis, 0.24887134234...   \n",
       "\n",
       "                                      Vice President  \\\n",
       "0  (Fail to reject null hypothesis, 0.35492306674...   \n",
       "1  (Fail to reject null hypothesis, 0.22481596597...   \n",
       "2  (Fail to reject null hypothesis, 0.94044115678...   \n",
       "3  (Fail to reject null hypothesis, 0.57278207838...   \n",
       "4  (Fail to reject null hypothesis, 0.10282680974...   \n",
       "5  (Fail to reject null hypothesis, 0.58316012258...   \n",
       "\n",
       "                                            Director  \\\n",
       "0  (Fail to reject null hypothesis, 0.72353487333...   \n",
       "1  (Fail to reject null hypothesis, 0.86402214599...   \n",
       "2  (Fail to reject null hypothesis, 0.62606435912...   \n",
       "3  (Fail to reject null hypothesis, 0.45727659148...   \n",
       "4  (Fail to reject null hypothesis, 0.34052255287...   \n",
       "5  (Fail to reject null hypothesis, 0.98265029174...   \n",
       "\n",
       "                                           President  \\\n",
       "0  (Fail to reject null hypothesis, 0.55806479950...   \n",
       "1  (Fail to reject null hypothesis, 0.60707778668...   \n",
       "2  (Fail to reject null hypothesis, 0.97752050806...   \n",
       "3  (Fail to reject null hypothesis, 0.24755473181...   \n",
       "4  (Fail to reject null hypothesis, 0.13520433678...   \n",
       "5  (Fail to reject null hypothesis, 0.77834992010...   \n",
       "\n",
       "                                              Csuite  \\\n",
       "0     (reject null hypothesis, 0.031294641931048243)   \n",
       "1  (Fail to reject null hypothesis, 0.21062540255...   \n",
       "2  (Fail to reject null hypothesis, 0.96713272400...   \n",
       "3  (Fail to reject null hypothesis, 0.70040625637...   \n",
       "4  (Fail to reject null hypothesis, 0.47547207282...   \n",
       "5  (Fail to reject null hypothesis, 0.79916468656...   \n",
       "\n",
       "                                              Trader  \n",
       "0  (Fail to reject null hypothesis, 0.92405297435...  \n",
       "1  (Fail to reject null hypothesis, 0.40829075177...  \n",
       "2  (Fail to reject null hypothesis, 0.80642388938...  \n",
       "3  (Fail to reject null hypothesis, 0.40829855378...  \n",
       "4  (Fail to reject null hypothesis, 0.84414459735...  \n",
       "5  (Fail to reject null hypothesis, 0.60946365089...  "
      ]
     },
     "execution_count": 110,
     "metadata": {},
     "output_type": "execute_result"
    }
   ],
   "source": [
    "results_table"
   ]
  },
  {
   "cell_type": "code",
   "execution_count": 104,
   "metadata": {},
   "outputs": [
    {
     "data": {
      "text/plain": [
       "(0.8120837807655334, 0.0052761803381145)"
      ]
     },
     "execution_count": 104,
     "metadata": {},
     "output_type": "execute_result"
    }
   ],
   "source": [
    "## Chi Square"
   ]
  },
  {
   "cell_type": "code",
   "execution_count": 118,
   "metadata": {},
   "outputs": [],
   "source": [
    "dft_total=pd.read_pickle('D:/Capstone/dataset/support_files/employee_topics.pkl')"
   ]
  },
  {
   "cell_type": "code",
   "execution_count": 132,
   "metadata": {},
   "outputs": [],
   "source": [
    "dft_total=dft_total.merge(position[['position','address','user','uuid','eid']], on='eid',how='left')"
   ]
  },
  {
   "cell_type": "code",
   "execution_count": 144,
   "metadata": {},
   "outputs": [],
   "source": [
    "chi2_result = pd.DataFrame()\n",
    "x2=[]\n",
    "p=[]\n",
    "degf=[]\n",
    "for i in range(len(mean_topic)-1):\n",
    "    f_obs = np.array([mean_topic.iloc[i][0:6].values,\n",
    "                      mean_topic.iloc[7][0:6].values])\n",
    "    a,b,c=stats.chi2_contingency(f_obs)[0:3]\n",
    "    x2.append(a)\n",
    "    p.append(b)\n",
    "    degf.append(c)\n",
    "chi2_result['position']=groups\n",
    "chi2_result['x2']=x2\n",
    "chi2_result['p-value']=p\n",
    "chi2_result['deg_freedom']=degf   "
   ]
  },
  {
   "cell_type": "code",
   "execution_count": 177,
   "metadata": {},
   "outputs": [
    {
     "data": {
      "text/plain": [
       "['Manager',\n",
       " 'Employee',\n",
       " 'Vice President',\n",
       " 'Director',\n",
       " 'President',\n",
       " 'Csuite',\n",
       " 'Trader']"
      ]
     },
     "execution_count": 177,
     "metadata": {},
     "output_type": "execute_result"
    }
   ],
   "source": [
    "groups"
   ]
  },
  {
   "cell_type": "code",
   "execution_count": 178,
   "metadata": {},
   "outputs": [
    {
     "data": {
      "text/html": [
       "<div>\n",
       "<style scoped>\n",
       "    .dataframe tbody tr th:only-of-type {\n",
       "        vertical-align: middle;\n",
       "    }\n",
       "\n",
       "    .dataframe tbody tr th {\n",
       "        vertical-align: top;\n",
       "    }\n",
       "\n",
       "    .dataframe thead th {\n",
       "        text-align: right;\n",
       "    }\n",
       "</style>\n",
       "<table border=\"1\" class=\"dataframe\">\n",
       "  <thead>\n",
       "    <tr style=\"text-align: right;\">\n",
       "      <th></th>\n",
       "      <th>topic_0</th>\n",
       "      <th>topic_1</th>\n",
       "      <th>topic_2</th>\n",
       "      <th>topic_3</th>\n",
       "      <th>topic_4</th>\n",
       "      <th>topic_5</th>\n",
       "      <th>position</th>\n",
       "    </tr>\n",
       "  </thead>\n",
       "  <tbody>\n",
       "    <tr>\n",
       "      <th>0</th>\n",
       "      <td>6.205333</td>\n",
       "      <td>21.154000</td>\n",
       "      <td>1.223333</td>\n",
       "      <td>32.791333</td>\n",
       "      <td>37.022667</td>\n",
       "      <td>1.604667</td>\n",
       "      <td>Manager</td>\n",
       "    </tr>\n",
       "    <tr>\n",
       "      <th>1</th>\n",
       "      <td>5.919419</td>\n",
       "      <td>23.305814</td>\n",
       "      <td>2.513023</td>\n",
       "      <td>37.820116</td>\n",
       "      <td>28.070581</td>\n",
       "      <td>2.370116</td>\n",
       "      <td>Employee</td>\n",
       "    </tr>\n",
       "    <tr>\n",
       "      <th>2</th>\n",
       "      <td>6.616071</td>\n",
       "      <td>20.181786</td>\n",
       "      <td>0.740000</td>\n",
       "      <td>35.127143</td>\n",
       "      <td>36.885357</td>\n",
       "      <td>0.448214</td>\n",
       "      <td>Vice President</td>\n",
       "    </tr>\n",
       "    <tr>\n",
       "      <th>3</th>\n",
       "      <td>5.448571</td>\n",
       "      <td>26.517857</td>\n",
       "      <td>0.000000</td>\n",
       "      <td>31.675714</td>\n",
       "      <td>35.086429</td>\n",
       "      <td>1.270714</td>\n",
       "      <td>Director</td>\n",
       "    </tr>\n",
       "    <tr>\n",
       "      <th>4</th>\n",
       "      <td>7.548333</td>\n",
       "      <td>20.856667</td>\n",
       "      <td>0.903333</td>\n",
       "      <td>21.436667</td>\n",
       "      <td>46.968333</td>\n",
       "      <td>2.285000</td>\n",
       "      <td>President</td>\n",
       "    </tr>\n",
       "    <tr>\n",
       "      <th>5</th>\n",
       "      <td>13.113333</td>\n",
       "      <td>15.630833</td>\n",
       "      <td>0.905833</td>\n",
       "      <td>34.960000</td>\n",
       "      <td>33.451667</td>\n",
       "      <td>1.936667</td>\n",
       "      <td>Csuite</td>\n",
       "    </tr>\n",
       "    <tr>\n",
       "      <th>6</th>\n",
       "      <td>4.475000</td>\n",
       "      <td>19.862500</td>\n",
       "      <td>0.379167</td>\n",
       "      <td>48.071667</td>\n",
       "      <td>24.652500</td>\n",
       "      <td>2.559167</td>\n",
       "      <td>Trader</td>\n",
       "    </tr>\n",
       "    <tr>\n",
       "      <th>7</th>\n",
       "      <td>4.075207</td>\n",
       "      <td>28.097358</td>\n",
       "      <td>0.830016</td>\n",
       "      <td>39.124089</td>\n",
       "      <td>26.553643</td>\n",
       "      <td>1.319548</td>\n",
       "      <td>Total</td>\n",
       "    </tr>\n",
       "  </tbody>\n",
       "</table>\n",
       "</div>"
      ],
      "text/plain": [
       "     topic_0    topic_1   topic_2    topic_3    topic_4   topic_5  \\\n",
       "0   6.205333  21.154000  1.223333  32.791333  37.022667  1.604667   \n",
       "1   5.919419  23.305814  2.513023  37.820116  28.070581  2.370116   \n",
       "2   6.616071  20.181786  0.740000  35.127143  36.885357  0.448214   \n",
       "3   5.448571  26.517857  0.000000  31.675714  35.086429  1.270714   \n",
       "4   7.548333  20.856667  0.903333  21.436667  46.968333  2.285000   \n",
       "5  13.113333  15.630833  0.905833  34.960000  33.451667  1.936667   \n",
       "6   4.475000  19.862500  0.379167  48.071667  24.652500  2.559167   \n",
       "7   4.075207  28.097358  0.830016  39.124089  26.553643  1.319548   \n",
       "\n",
       "         position  \n",
       "0         Manager  \n",
       "1        Employee  \n",
       "2  Vice President  \n",
       "3        Director  \n",
       "4       President  \n",
       "5          Csuite  \n",
       "6          Trader  \n",
       "7           Total  "
      ]
     },
     "execution_count": 178,
     "metadata": {},
     "output_type": "execute_result"
    }
   ],
   "source": [
    "mean_topic=pd.DataFrame()\n",
    "\n",
    "for i in topic_list:\n",
    "    tl=[]\n",
    "    for g in groups:\n",
    "        result=dft_total[(dft_total.position==g)][i].mean()\n",
    "        tl.append(result)\n",
    "    tl.append(dft_total[i].mean())\n",
    "    mean_topic[i]=tl\n",
    "\n",
    "    \n",
    "mean_topic['position']=['Manager',\n",
    " 'Employee',\n",
    " 'Vice President',\n",
    " 'Director',\n",
    " 'President',\n",
    " 'Csuite',\n",
    " 'Trader',\n",
    " 'Total']\n",
    "\n",
    "mean_topic"
   ]
  },
  {
   "cell_type": "code",
   "execution_count": 179,
   "metadata": {},
   "outputs": [
    {
     "data": {
      "text/html": [
       "<div>\n",
       "<style scoped>\n",
       "    .dataframe tbody tr th:only-of-type {\n",
       "        vertical-align: middle;\n",
       "    }\n",
       "\n",
       "    .dataframe tbody tr th {\n",
       "        vertical-align: top;\n",
       "    }\n",
       "\n",
       "    .dataframe thead th {\n",
       "        text-align: right;\n",
       "    }\n",
       "</style>\n",
       "<table border=\"1\" class=\"dataframe\">\n",
       "  <thead>\n",
       "    <tr style=\"text-align: right;\">\n",
       "      <th></th>\n",
       "      <th>position</th>\n",
       "      <th>x2</th>\n",
       "      <th>p-value</th>\n",
       "      <th>deg_freedom</th>\n",
       "    </tr>\n",
       "  </thead>\n",
       "  <tbody>\n",
       "    <tr>\n",
       "      <th>0</th>\n",
       "      <td>Manager</td>\n",
       "      <td>3.804934</td>\n",
       "      <td>0.577829</td>\n",
       "      <td>5</td>\n",
       "    </tr>\n",
       "    <tr>\n",
       "      <th>1</th>\n",
       "      <td>Employee</td>\n",
       "      <td>1.997580</td>\n",
       "      <td>0.849480</td>\n",
       "      <td>5</td>\n",
       "    </tr>\n",
       "    <tr>\n",
       "      <th>2</th>\n",
       "      <td>Vice President</td>\n",
       "      <td>4.234076</td>\n",
       "      <td>0.516230</td>\n",
       "      <td>5</td>\n",
       "    </tr>\n",
       "    <tr>\n",
       "      <th>3</th>\n",
       "      <td>Director</td>\n",
       "      <td>3.039441</td>\n",
       "      <td>0.693905</td>\n",
       "      <td>5</td>\n",
       "    </tr>\n",
       "    <tr>\n",
       "      <th>4</th>\n",
       "      <td>President</td>\n",
       "      <td>13.204726</td>\n",
       "      <td>0.021534</td>\n",
       "      <td>5</td>\n",
       "    </tr>\n",
       "    <tr>\n",
       "      <th>5</th>\n",
       "      <td>Csuite</td>\n",
       "      <td>9.453847</td>\n",
       "      <td>0.092275</td>\n",
       "      <td>5</td>\n",
       "    </tr>\n",
       "    <tr>\n",
       "      <th>6</th>\n",
       "      <td>Trader</td>\n",
       "      <td>2.985660</td>\n",
       "      <td>0.702197</td>\n",
       "      <td>5</td>\n",
       "    </tr>\n",
       "  </tbody>\n",
       "</table>\n",
       "</div>"
      ],
      "text/plain": [
       "         position         x2   p-value  deg_freedom\n",
       "0         Manager   3.804934  0.577829            5\n",
       "1        Employee   1.997580  0.849480            5\n",
       "2  Vice President   4.234076  0.516230            5\n",
       "3        Director   3.039441  0.693905            5\n",
       "4       President  13.204726  0.021534            5\n",
       "5          Csuite   9.453847  0.092275            5\n",
       "6          Trader   2.985660  0.702197            5"
      ]
     },
     "execution_count": 179,
     "metadata": {},
     "output_type": "execute_result"
    }
   ],
   "source": [
    "chi2_result"
   ]
  },
  {
   "cell_type": "code",
   "execution_count": null,
   "metadata": {},
   "outputs": [],
   "source": []
  },
  {
   "cell_type": "code",
   "execution_count": null,
   "metadata": {},
   "outputs": [],
   "source": []
  }
 ],
 "metadata": {
  "kernelspec": {
   "display_name": "Python 3",
   "language": "python",
   "name": "python3"
  },
  "language_info": {
   "codemirror_mode": {
    "name": "ipython",
    "version": 3
   },
   "file_extension": ".py",
   "mimetype": "text/x-python",
   "name": "python",
   "nbconvert_exporter": "python",
   "pygments_lexer": "ipython3",
   "version": "3.7.3"
  }
 },
 "nbformat": 4,
 "nbformat_minor": 2
}
