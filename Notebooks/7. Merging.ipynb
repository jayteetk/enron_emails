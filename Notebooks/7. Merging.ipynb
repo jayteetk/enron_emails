{
 "cells": [
  {
   "cell_type": "code",
   "execution_count": 1,
   "metadata": {},
   "outputs": [],
   "source": [
    "import numpy as np\n",
    "import pandas as pd\n",
    "from datetime import datetime, timedelta"
   ]
  },
  {
   "cell_type": "code",
   "execution_count": 2,
   "metadata": {},
   "outputs": [],
   "source": [
    "df= pd.read_csv('D:/Capstone/dataset/database/messages.csv')\n",
    "df1= pd.read_csv('D:/Capstone/dataset/topic_matrix_final.csv')"
   ]
  },
  {
   "cell_type": "code",
   "execution_count": 3,
   "metadata": {},
   "outputs": [],
   "source": [
    "df= df.merge(df1, on ='Unnamed: 0')\n",
    "#infer date\n",
    "df['date'] = pd.to_datetime(df['date'],infer_datetime_format = True)"
   ]
  },
  {
   "cell_type": "code",
   "execution_count": 4,
   "metadata": {},
   "outputs": [
    {
     "data": {
      "text/plain": [
       "Index(['Unnamed: 0', 'mid', 'from_clean', 'user', 'type', 'subject', 'body',\n",
       "       'date', 'bcc', 'uuid', 'eid', 'topic_0', 'topic_1', 'topic_2',\n",
       "       'topic_3', 'topic_4', 'topic_5', 'topic_6', 'pred_topic', 'max_prob',\n",
       "       'final_topic'],\n",
       "      dtype='object')"
      ]
     },
     "execution_count": 4,
     "metadata": {},
     "output_type": "execute_result"
    }
   ],
   "source": [
    "df.columns"
   ]
  },
  {
   "cell_type": "code",
   "execution_count": 5,
   "metadata": {},
   "outputs": [],
   "source": [
    "df.drop(columns =['Unnamed: 0','topic_0', 'topic_1', 'topic_2',\n",
    "       'topic_3', 'topic_4', 'topic_5', 'topic_6', 'pred_topic', 'max_prob'], inplace=True)"
   ]
  },
  {
   "cell_type": "code",
   "execution_count": 6,
   "metadata": {},
   "outputs": [],
   "source": [
    "#renamed columns\n",
    "df.columns=['mid','address','user','type','subject','body','date','bcc','uuid','eid','topic']"
   ]
  },
  {
   "cell_type": "code",
   "execution_count": 7,
   "metadata": {},
   "outputs": [],
   "source": [
    "topic_dict={'topic_0':'office communications',\n",
    "                'topic_1':'industry expertise',\n",
    "                'topic_2':'social',\n",
    "                'topic_3':'operational compliance',\n",
    "                'topic_4':'trading',\n",
    "                'topic_5':'legal',\n",
    "                'topic_6':'spam & html communique',\n",
    "                'unclassified':'unclassified'\n",
    "               }"
   ]
  },
  {
   "cell_type": "code",
   "execution_count": 8,
   "metadata": {},
   "outputs": [
    {
     "data": {
      "text/html": [
       "<div>\n",
       "<style scoped>\n",
       "    .dataframe tbody tr th:only-of-type {\n",
       "        vertical-align: middle;\n",
       "    }\n",
       "\n",
       "    .dataframe tbody tr th {\n",
       "        vertical-align: top;\n",
       "    }\n",
       "\n",
       "    .dataframe thead th {\n",
       "        text-align: right;\n",
       "    }\n",
       "</style>\n",
       "<table border=\"1\" class=\"dataframe\">\n",
       "  <thead>\n",
       "    <tr style=\"text-align: right;\">\n",
       "      <th></th>\n",
       "      <th>mid</th>\n",
       "      <th>address</th>\n",
       "      <th>user</th>\n",
       "      <th>type</th>\n",
       "      <th>subject</th>\n",
       "      <th>body</th>\n",
       "      <th>date</th>\n",
       "      <th>bcc</th>\n",
       "      <th>uuid</th>\n",
       "      <th>eid</th>\n",
       "      <th>topic</th>\n",
       "    </tr>\n",
       "  </thead>\n",
       "  <tbody>\n",
       "    <tr>\n",
       "      <th>0</th>\n",
       "      <td>221272</td>\n",
       "      <td>phillip.allen@enron.com</td>\n",
       "      <td>allen-p</td>\n",
       "      <td>sent</td>\n",
       "      <td>no subject</td>\n",
       "      <td>Here is our forecast</td>\n",
       "      <td>2001-05-14 16:39:00</td>\n",
       "      <td>None</td>\n",
       "      <td>0</td>\n",
       "      <td>0</td>\n",
       "      <td>topic_1</td>\n",
       "    </tr>\n",
       "    <tr>\n",
       "      <th>1</th>\n",
       "      <td>221264</td>\n",
       "      <td>phillip.allen@enron.com</td>\n",
       "      <td>allen-p</td>\n",
       "      <td>sent</td>\n",
       "      <td>no subject</td>\n",
       "      <td>Traveling to have a business meeting takes th...</td>\n",
       "      <td>2001-05-04 13:51:00</td>\n",
       "      <td>None</td>\n",
       "      <td>0</td>\n",
       "      <td>0</td>\n",
       "      <td>topic_4</td>\n",
       "    </tr>\n",
       "    <tr>\n",
       "      <th>2</th>\n",
       "      <td>91067</td>\n",
       "      <td>phillip.allen@enron.com</td>\n",
       "      <td>allen-p</td>\n",
       "      <td>sent</td>\n",
       "      <td>test</td>\n",
       "      <td>test successful way to go</td>\n",
       "      <td>2000-10-18 03:00:00</td>\n",
       "      <td>None</td>\n",
       "      <td>0</td>\n",
       "      <td>0</td>\n",
       "      <td>topic_1</td>\n",
       "    </tr>\n",
       "    <tr>\n",
       "      <th>3</th>\n",
       "      <td>221137</td>\n",
       "      <td>phillip.allen@enron.com</td>\n",
       "      <td>allen-p</td>\n",
       "      <td>sent</td>\n",
       "      <td>no subject</td>\n",
       "      <td>Randy Can you send me a schedule of the salar...</td>\n",
       "      <td>2000-10-23 06:13:00</td>\n",
       "      <td>None</td>\n",
       "      <td>0</td>\n",
       "      <td>0</td>\n",
       "      <td>unclassified</td>\n",
       "    </tr>\n",
       "    <tr>\n",
       "      <th>4</th>\n",
       "      <td>36196</td>\n",
       "      <td>phillip.allen@enron.com</td>\n",
       "      <td>allen-p</td>\n",
       "      <td>sent</td>\n",
       "      <td>Hello</td>\n",
       "      <td>Let's shoot for Tuesday at</td>\n",
       "      <td>2000-08-31 05:07:00</td>\n",
       "      <td>None</td>\n",
       "      <td>0</td>\n",
       "      <td>0</td>\n",
       "      <td>topic_6</td>\n",
       "    </tr>\n",
       "  </tbody>\n",
       "</table>\n",
       "</div>"
      ],
      "text/plain": [
       "      mid                  address     user  type     subject  \\\n",
       "0  221272  phillip.allen@enron.com  allen-p  sent  no subject   \n",
       "1  221264  phillip.allen@enron.com  allen-p  sent  no subject   \n",
       "2   91067  phillip.allen@enron.com  allen-p  sent        test   \n",
       "3  221137  phillip.allen@enron.com  allen-p  sent  no subject   \n",
       "4   36196  phillip.allen@enron.com  allen-p  sent       Hello   \n",
       "\n",
       "                                                body                date  \\\n",
       "0                              Here is our forecast  2001-05-14 16:39:00   \n",
       "1   Traveling to have a business meeting takes th... 2001-05-04 13:51:00   \n",
       "2                         test successful way to go  2000-10-18 03:00:00   \n",
       "3   Randy Can you send me a schedule of the salar... 2000-10-23 06:13:00   \n",
       "4                       Let's shoot for Tuesday at   2000-08-31 05:07:00   \n",
       "\n",
       "    bcc  uuid  eid         topic  \n",
       "0  None     0    0       topic_1  \n",
       "1  None     0    0       topic_4  \n",
       "2  None     0    0       topic_1  \n",
       "3  None     0    0  unclassified  \n",
       "4  None     0    0       topic_6  "
      ]
     },
     "execution_count": 8,
     "metadata": {},
     "output_type": "execute_result"
    }
   ],
   "source": [
    "df.head()"
   ]
  },
  {
   "cell_type": "code",
   "execution_count": 9,
   "metadata": {},
   "outputs": [],
   "source": [
    "topic_list=[]\n",
    "for i in range(len(df)):\n",
    "        t= df['topic'][i]\n",
    "        h = topic_dict.get(t)\n",
    "        topic_list.append(h)"
   ]
  },
  {
   "cell_type": "code",
   "execution_count": 10,
   "metadata": {},
   "outputs": [],
   "source": [
    "df['topic_h']=topic_list"
   ]
  },
  {
   "cell_type": "code",
   "execution_count": 11,
   "metadata": {},
   "outputs": [
    {
     "name": "stdout",
     "output_type": "stream",
     "text": [
      "<class 'pandas.core.frame.DataFrame'>\n",
      "Int64Index: 473749 entries, 0 to 473748\n",
      "Data columns (total 12 columns):\n",
      "mid        473749 non-null int64\n",
      "address    473749 non-null object\n",
      "user       473749 non-null object\n",
      "type       473749 non-null object\n",
      "subject    473749 non-null object\n",
      "body       473749 non-null object\n",
      "date       473749 non-null datetime64[ns]\n",
      "bcc        473749 non-null object\n",
      "uuid       473749 non-null int64\n",
      "eid        473749 non-null int64\n",
      "topic      473749 non-null object\n",
      "topic_h    473749 non-null object\n",
      "dtypes: datetime64[ns](1), int64(3), object(8)\n",
      "memory usage: 67.0+ MB\n"
     ]
    }
   ],
   "source": [
    "df.info()"
   ]
  },
  {
   "cell_type": "code",
   "execution_count": 12,
   "metadata": {},
   "outputs": [],
   "source": [
    "df.to_pickle('D:/Capstone/dataset/database/messages_combined.pkl')\n",
    "df.to_csv('D:/Capstone/dataset/database/messages_combined.csv')"
   ]
  },
  {
   "cell_type": "code",
   "execution_count": 13,
   "metadata": {},
   "outputs": [
    {
     "data": {
      "text/html": [
       "<div>\n",
       "<style scoped>\n",
       "    .dataframe tbody tr th:only-of-type {\n",
       "        vertical-align: middle;\n",
       "    }\n",
       "\n",
       "    .dataframe tbody tr th {\n",
       "        vertical-align: top;\n",
       "    }\n",
       "\n",
       "    .dataframe thead th {\n",
       "        text-align: right;\n",
       "    }\n",
       "</style>\n",
       "<table border=\"1\" class=\"dataframe\">\n",
       "  <thead>\n",
       "    <tr style=\"text-align: right;\">\n",
       "      <th></th>\n",
       "      <th>mid</th>\n",
       "      <th>address</th>\n",
       "      <th>user</th>\n",
       "      <th>type</th>\n",
       "      <th>subject</th>\n",
       "      <th>body</th>\n",
       "      <th>date</th>\n",
       "      <th>bcc</th>\n",
       "      <th>uuid</th>\n",
       "      <th>eid</th>\n",
       "      <th>topic</th>\n",
       "      <th>topic_h</th>\n",
       "    </tr>\n",
       "  </thead>\n",
       "  <tbody>\n",
       "    <tr>\n",
       "      <th>0</th>\n",
       "      <td>221272</td>\n",
       "      <td>phillip.allen@enron.com</td>\n",
       "      <td>allen-p</td>\n",
       "      <td>sent</td>\n",
       "      <td>no subject</td>\n",
       "      <td>Here is our forecast</td>\n",
       "      <td>2001-05-14 16:39:00</td>\n",
       "      <td>None</td>\n",
       "      <td>0</td>\n",
       "      <td>0</td>\n",
       "      <td>topic_1</td>\n",
       "      <td>industry expertise</td>\n",
       "    </tr>\n",
       "    <tr>\n",
       "      <th>1</th>\n",
       "      <td>221264</td>\n",
       "      <td>phillip.allen@enron.com</td>\n",
       "      <td>allen-p</td>\n",
       "      <td>sent</td>\n",
       "      <td>no subject</td>\n",
       "      <td>Traveling to have a business meeting takes th...</td>\n",
       "      <td>2001-05-04 13:51:00</td>\n",
       "      <td>None</td>\n",
       "      <td>0</td>\n",
       "      <td>0</td>\n",
       "      <td>topic_4</td>\n",
       "      <td>trading</td>\n",
       "    </tr>\n",
       "  </tbody>\n",
       "</table>\n",
       "</div>"
      ],
      "text/plain": [
       "      mid                  address     user  type     subject  \\\n",
       "0  221272  phillip.allen@enron.com  allen-p  sent  no subject   \n",
       "1  221264  phillip.allen@enron.com  allen-p  sent  no subject   \n",
       "\n",
       "                                                body                date  \\\n",
       "0                              Here is our forecast  2001-05-14 16:39:00   \n",
       "1   Traveling to have a business meeting takes th... 2001-05-04 13:51:00   \n",
       "\n",
       "    bcc  uuid  eid    topic             topic_h  \n",
       "0  None     0    0  topic_1  industry expertise  \n",
       "1  None     0    0  topic_4             trading  "
      ]
     },
     "execution_count": 13,
     "metadata": {},
     "output_type": "execute_result"
    }
   ],
   "source": [
    "df.head(2)"
   ]
  },
  {
   "cell_type": "code",
   "execution_count": 14,
   "metadata": {},
   "outputs": [
    {
     "data": {
      "text/plain": [
       "(473749, 12)"
      ]
     },
     "execution_count": 14,
     "metadata": {},
     "output_type": "execute_result"
    }
   ],
   "source": [
    "df.shape"
   ]
  },
  {
   "cell_type": "code",
   "execution_count": 15,
   "metadata": {},
   "outputs": [],
   "source": [
    "#drop unclassified rows\n",
    "df=df[df.topic != 'unclassified']"
   ]
  },
  {
   "cell_type": "code",
   "execution_count": 16,
   "metadata": {},
   "outputs": [
    {
     "name": "stdout",
     "output_type": "stream",
     "text": [
      "(144785, 12)\n",
      "0.30561542082410725\n"
     ]
    }
   ],
   "source": [
    "print(df.shape)\n",
    "print(144785/473749)"
   ]
  },
  {
   "cell_type": "code",
   "execution_count": 17,
   "metadata": {},
   "outputs": [],
   "source": [
    "df.to_pickle('D:/Capstone/dataset/database/messages_combined_reduced.pkl')\n",
    "df.to_csv('D:/Capstone/dataset/database/messages_combined_reduced.csv')"
   ]
  },
  {
   "cell_type": "code",
   "execution_count": 18,
   "metadata": {},
   "outputs": [
    {
     "data": {
      "text/plain": [
       "144785"
      ]
     },
     "execution_count": 18,
     "metadata": {},
     "output_type": "execute_result"
    }
   ],
   "source": [
    "len(df)"
   ]
  },
  {
   "cell_type": "code",
   "execution_count": null,
   "metadata": {},
   "outputs": [],
   "source": []
  }
 ],
 "metadata": {
  "kernelspec": {
   "display_name": "Python 3",
   "language": "python",
   "name": "python3"
  },
  "language_info": {
   "codemirror_mode": {
    "name": "ipython",
    "version": 3
   },
   "file_extension": ".py",
   "mimetype": "text/x-python",
   "name": "python",
   "nbconvert_exporter": "python",
   "pygments_lexer": "ipython3",
   "version": "3.7.3"
  }
 },
 "nbformat": 4,
 "nbformat_minor": 2
}
