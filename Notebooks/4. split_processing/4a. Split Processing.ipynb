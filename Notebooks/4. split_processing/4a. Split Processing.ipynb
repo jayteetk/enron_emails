{
 "cells": [
  {
   "cell_type": "code",
   "execution_count": 1,
   "metadata": {},
   "outputs": [],
   "source": [
    "import numpy as np\n",
    "import pandas as pd"
   ]
  },
  {
   "cell_type": "code",
   "execution_count": 2,
   "metadata": {},
   "outputs": [],
   "source": [
    "df=pd.read_csv('D:/Capstone/dataset/emails_total_preprocessed.csv')"
   ]
  },
  {
   "cell_type": "code",
   "execution_count": 3,
   "metadata": {},
   "outputs": [
    {
     "data": {
      "text/plain": [
       "(473749, 12)"
      ]
     },
     "execution_count": 3,
     "metadata": {},
     "output_type": "execute_result"
    }
   ],
   "source": [
    "df.shape"
   ]
  },
  {
   "cell_type": "code",
   "execution_count": 8,
   "metadata": {},
   "outputs": [
    {
     "data": {
      "text/plain": [
       "315832.6666666667"
      ]
     },
     "execution_count": 8,
     "metadata": {},
     "output_type": "execute_result"
    }
   ],
   "source": [
    "(df.shape[0]/3)*2"
   ]
  },
  {
   "cell_type": "code",
   "execution_count": 20,
   "metadata": {},
   "outputs": [],
   "source": [
    "file1= df.loc[:157916]\n",
    "file2= df.loc[157917:315833]\n",
    "file3= df.loc[315834:]"
   ]
  },
  {
   "cell_type": "code",
   "execution_count": 21,
   "metadata": {},
   "outputs": [
    {
     "data": {
      "text/plain": [
       "(157917, 12)"
      ]
     },
     "execution_count": 21,
     "metadata": {},
     "output_type": "execute_result"
    }
   ],
   "source": [
    "file1.shape"
   ]
  },
  {
   "cell_type": "code",
   "execution_count": 22,
   "metadata": {},
   "outputs": [
    {
     "name": "stdout",
     "output_type": "stream",
     "text": [
      "157917 157917 157915\n",
      "total: 473749\n"
     ]
    }
   ],
   "source": [
    "print(len(file1),len(file2),len(file3))\n",
    "print('total:',len(file1)+len(file2)+len(file3))"
   ]
  },
  {
   "cell_type": "code",
   "execution_count": 23,
   "metadata": {},
   "outputs": [
    {
     "data": {
      "text/plain": [
       "Unnamed: 0                                                 157916\n",
       "message         Message-ID: <1271366.1075858779634.JavaMail.ev...\n",
       "user                                                      white-s\n",
       "from                                       stacey.white@enron.com\n",
       "type                                                     received\n",
       "subject                 Wiese s Happy Hour Blue Agave Waugh Gray \n",
       "date                                                   2001-06-26\n",
       "bcc                                                          None\n",
       "email                                          w..white@enron.com\n",
       "body             CALENDAR ENTRY INVITATION Description Wiese's...\n",
       "word_count                                                     24\n",
       "email_counts                                                  381\n",
       "Name: 157916, dtype: object"
      ]
     },
     "execution_count": 23,
     "metadata": {},
     "output_type": "execute_result"
    }
   ],
   "source": [
    "file1.iloc[-1]"
   ]
  },
  {
   "cell_type": "code",
   "execution_count": 24,
   "metadata": {},
   "outputs": [
    {
     "data": {
      "text/plain": [
       "Unnamed: 0                                                 157917\n",
       "message         Message-ID: <27243800.1075858779655.JavaMail.e...\n",
       "user                                                      white-s\n",
       "from                                       stacey.white@enron.com\n",
       "type                                                     received\n",
       "subject                                          VaR meeting EB b\n",
       "date                                                   2001-06-26\n",
       "bcc                                                          None\n",
       "email                                          w..white@enron.com\n",
       "body             CALENDAR ENTRY INVITATION Description VaR mee...\n",
       "word_count                                                     20\n",
       "email_counts                                                  381\n",
       "Name: 157917, dtype: object"
      ]
     },
     "execution_count": 24,
     "metadata": {},
     "output_type": "execute_result"
    }
   ],
   "source": [
    "file2.iloc[0]"
   ]
  },
  {
   "cell_type": "code",
   "execution_count": 25,
   "metadata": {},
   "outputs": [
    {
     "data": {
      "text/plain": [
       "Unnamed: 0                                                 315833\n",
       "message         Message-ID: <5708980.1075853943136.JavaMail.ev...\n",
       "user                                                      davis-d\n",
       "from                                      nicole.mendez@enron.com\n",
       "type                                                     received\n",
       "subject                         Merchant Finance Christmas Dinner\n",
       "date                                                   2000-12-12\n",
       "bcc                                                          None\n",
       "email                                        dana.davis@enron.com\n",
       "body             Please note We will leave at pm instead of pm...\n",
       "word_count                                                     12\n",
       "email_counts                                                   79\n",
       "Name: 315833, dtype: object"
      ]
     },
     "execution_count": 25,
     "metadata": {},
     "output_type": "execute_result"
    }
   ],
   "source": [
    "file2.iloc[-1]"
   ]
  },
  {
   "cell_type": "code",
   "execution_count": 26,
   "metadata": {},
   "outputs": [
    {
     "data": {
      "text/plain": [
       "Unnamed: 0                                                 315834\n",
       "message         Message-ID: <32279628.1075853960585.JavaMail.e...\n",
       "user                                                      davis-d\n",
       "from                                      nicole.mendez@enron.com\n",
       "type                                                     received\n",
       "subject                      Kristi s Birthday Breakfast REMINDER\n",
       "date                                                   2001-01-05\n",
       "bcc                                                          None\n",
       "email                                        dana.davis@enron.com\n",
       "body             Please don't forget to give me the extra mone...\n",
       "word_count                                                    120\n",
       "email_counts                                                   79\n",
       "Name: 315834, dtype: object"
      ]
     },
     "execution_count": 26,
     "metadata": {},
     "output_type": "execute_result"
    }
   ],
   "source": [
    "file3.iloc[0]"
   ]
  },
  {
   "cell_type": "code",
   "execution_count": 27,
   "metadata": {},
   "outputs": [],
   "source": [
    "file1.to_csv('D:/Capstone/dataset/preprocessed_total_1.csv')\n",
    "file2.to_csv('D:/Capstone/dataset/preprocessed_total_2.csv')\n",
    "file3.to_csv('D:/Capstone/dataset/preprocessed_total_3.csv')"
   ]
  },
  {
   "cell_type": "code",
   "execution_count": null,
   "metadata": {},
   "outputs": [],
   "source": []
  }
 ],
 "metadata": {
  "kernelspec": {
   "display_name": "Python 3",
   "language": "python",
   "name": "python3"
  },
  "language_info": {
   "codemirror_mode": {
    "name": "ipython",
    "version": 3
   },
   "file_extension": ".py",
   "mimetype": "text/x-python",
   "name": "python",
   "nbconvert_exporter": "python",
   "pygments_lexer": "ipython3",
   "version": "3.7.3"
  }
 },
 "nbformat": 4,
 "nbformat_minor": 2
}
