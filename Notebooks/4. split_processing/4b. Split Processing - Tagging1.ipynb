{
 "cells": [
  {
   "cell_type": "code",
   "execution_count": 15,
   "metadata": {},
   "outputs": [],
   "source": [
    "import numpy as np\n",
    "import pandas as pd\n",
    "\n",
    "##preprocessing\n",
    "import gensim\n",
    "import en_core_web_sm\n",
    "from gensim.models.phrases import Phrases, Phraser\n",
    "from gensim.utils import simple_preprocess\n",
    "import pickle\n",
    "import joblib\n",
    "import warnings\n",
    "warnings.filterwarnings(\"ignore\")\n",
    "from time import time"
   ]
  },
  {
   "cell_type": "code",
   "execution_count": 16,
   "metadata": {},
   "outputs": [],
   "source": [
    "df= pd.read_csv('D:/Capstone/dataset/preprocessed_total_1.csv')"
   ]
  },
  {
   "cell_type": "code",
   "execution_count": 17,
   "metadata": {},
   "outputs": [
    {
     "name": "stdout",
     "output_type": "stream",
     "text": [
      "<class 'pandas.core.frame.DataFrame'>\n",
      "RangeIndex: 157917 entries, 0 to 157916\n",
      "Data columns (total 11 columns):\n",
      "Unnamed: 0      157917 non-null int64\n",
      "user            157917 non-null object\n",
      "from            157917 non-null object\n",
      "type            157917 non-null object\n",
      "subject         157917 non-null object\n",
      "date            157917 non-null object\n",
      "bcc             157917 non-null object\n",
      "email           157917 non-null object\n",
      "body            157917 non-null object\n",
      "word_count      157917 non-null int64\n",
      "email_counts    157917 non-null int64\n",
      "dtypes: int64(3), object(8)\n",
      "memory usage: 13.3+ MB\n"
     ]
    }
   ],
   "source": [
    "df.info()"
   ]
  },
  {
   "cell_type": "code",
   "execution_count": 18,
   "metadata": {},
   "outputs": [
    {
     "data": {
      "text/plain": [
       "157917"
      ]
     },
     "execution_count": 18,
     "metadata": {},
     "output_type": "execute_result"
    }
   ],
   "source": [
    "len(df)"
   ]
  },
  {
   "cell_type": "code",
   "execution_count": 19,
   "metadata": {},
   "outputs": [],
   "source": [
    "nlp = en_core_web_sm.load(disable=['ner','parser'])\n",
    "custom_stop_words = ['from', 'subject', 're', 'edu', 'use','fwd','please',\n",
    "                   'thanks','enron','inc','copy','mail','know','need',\n",
    "                   're','yo','said','also','email','www','may','cell','fax',\n",
    "                   'http','br','table','width','href','ahref','align','would',\n",
    "                   'font','go','width_height','tr','nbsp','face_arial','gif','the',\n",
    "                    'align_center', 'td_td','table_width','colspan_nbsp','colspan_align',\n",
    "                    'like','courier_nbsp','ueta_ucita','hmtf']\n",
    "\n",
    "for w in custom_stop_words:\n",
    "    nlp.vocab[w].is_stop = True"
   ]
  },
  {
   "cell_type": "code",
   "execution_count": 20,
   "metadata": {},
   "outputs": [],
   "source": [
    "def sent_to_words(df):\n",
    "    list_of_sentences = df.values.tolist()\n",
    "    for sentence in list_of_sentences:\n",
    "        yield(gensim.utils.simple_preprocess(str(sentence), deacc=True))"
   ]
  },
  {
   "cell_type": "code",
   "execution_count": 21,
   "metadata": {},
   "outputs": [],
   "source": [
    "bigram_mod = Phraser(Phrases(list(sent_to_words(df.body)), min_count=5, threshold=40))"
   ]
  },
  {
   "cell_type": "code",
   "execution_count": 22,
   "metadata": {},
   "outputs": [],
   "source": [
    "def bigrams(df, allowed_postags=['NOUN', 'ADJ', 'VERB', 'ADV']):   \n",
    "    tokens = [[word for word in simple_preprocess(str(doc))] for doc in list(sent_to_words(df))]\n",
    "    bigrams = [bigram_mod[doc] for doc in tokens]\n",
    "    return bigrams"
   ]
  },
  {
   "cell_type": "code",
   "execution_count": 23,
   "metadata": {},
   "outputs": [
    {
     "name": "stdout",
     "output_type": "stream",
     "text": [
      "Time to tokenize: 2.23 mins\n"
     ]
    }
   ],
   "source": [
    "t=time()\n",
    "data_tagged = bigrams(df.body, allowed_postags=['NOUN', 'ADJ', 'VERB', 'ADV'])\n",
    "print('Time to tokenize: {} mins'.format(round((time() - t) / 60, 2)))"
   ]
  },
  {
   "cell_type": "code",
   "execution_count": 24,
   "metadata": {},
   "outputs": [
    {
     "data": {
      "text/plain": [
       "157917"
      ]
     },
     "execution_count": 24,
     "metadata": {},
     "output_type": "execute_result"
    }
   ],
   "source": [
    "len(data_tagged)"
   ]
  },
  {
   "cell_type": "code",
   "execution_count": 25,
   "metadata": {},
   "outputs": [],
   "source": [
    "df['tokens']=data_tagged"
   ]
  },
  {
   "cell_type": "code",
   "execution_count": 26,
   "metadata": {},
   "outputs": [],
   "source": [
    "df.to_csv('D:/Capstone/dataset/emails/tagged1.csv')"
   ]
  },
  {
   "cell_type": "code",
   "execution_count": 27,
   "metadata": {},
   "outputs": [
    {
     "data": {
      "text/plain": [
       "157917"
      ]
     },
     "execution_count": 27,
     "metadata": {},
     "output_type": "execute_result"
    }
   ],
   "source": [
    "len(data_tagged)"
   ]
  },
  {
   "cell_type": "code",
   "execution_count": null,
   "metadata": {},
   "outputs": [],
   "source": []
  }
 ],
 "metadata": {
  "kernelspec": {
   "display_name": "Python 3",
   "language": "python",
   "name": "python3"
  },
  "language_info": {
   "codemirror_mode": {
    "name": "ipython",
    "version": 3
   },
   "file_extension": ".py",
   "mimetype": "text/x-python",
   "name": "python",
   "nbconvert_exporter": "python",
   "pygments_lexer": "ipython3",
   "version": "3.7.3"
  }
 },
 "nbformat": 4,
 "nbformat_minor": 2
}
