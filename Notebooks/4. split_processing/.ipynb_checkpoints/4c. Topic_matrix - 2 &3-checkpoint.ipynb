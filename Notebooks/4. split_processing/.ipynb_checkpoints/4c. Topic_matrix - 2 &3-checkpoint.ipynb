{
 "cells": [
  {
   "cell_type": "code",
   "execution_count": 1,
   "metadata": {},
   "outputs": [
    {
     "name": "stderr",
     "output_type": "stream",
     "text": [
      "D:\\Anaconda\\envs\\test1\\lib\\site-packages\\gensim\\utils.py:1197: UserWarning: detected Windows; aliasing chunkize to chunkize_serial\n",
      "  warnings.warn(\"detected Windows; aliasing chunkize to chunkize_serial\")\n"
     ]
    }
   ],
   "source": [
    "import numpy as np\n",
    "import pandas as pd\n",
    "import gensim\n",
    "import gensim.corpora as corpora\n",
    "from gensim.test.utils import datapath\n",
    "from gensim.models.ldamodel import LdaModel\n",
    "import pickle\n",
    "\n",
    "import warnings\n",
    "warnings.filterwarnings(\"ignore\")\n",
    "from time import time"
   ]
  },
  {
   "cell_type": "code",
   "execution_count": 2,
   "metadata": {},
   "outputs": [],
   "source": [
    "df_read = 'D:/Capstone/dataset/emails/tagged2.csv'\n",
    "df_out = 'D:/Capstone/dataset/topics2.csv'"
   ]
  },
  {
   "cell_type": "code",
   "execution_count": 3,
   "metadata": {},
   "outputs": [],
   "source": [
    "t=time()\n",
    "temp_file3 = datapath('D:/Capstone/dataset/ldamodel/lda_model3.model')\n",
    "loaded_model = LdaModel.load(temp_file3)"
   ]
  },
  {
   "cell_type": "code",
   "execution_count": 4,
   "metadata": {},
   "outputs": [],
   "source": [
    "#load df1 to topic model\n",
    "df= pd.read_csv(df_read)"
   ]
  },
  {
   "cell_type": "code",
   "execution_count": 5,
   "metadata": {},
   "outputs": [
    {
     "name": "stdout",
     "output_type": "stream",
     "text": [
      "<class 'pandas.core.frame.DataFrame'>\n",
      "RangeIndex: 157917 entries, 0 to 157916\n",
      "Data columns (total 13 columns):\n",
      "Unnamed: 0.1.1    157917 non-null int64\n",
      "message           157917 non-null object\n",
      "user              157917 non-null object\n",
      "from              157917 non-null object\n",
      "type              157917 non-null object\n",
      "subject           157917 non-null object\n",
      "date              157917 non-null object\n",
      "bcc               157917 non-null object\n",
      "email             157917 non-null object\n",
      "body              157917 non-null object\n",
      "word_count        157917 non-null int64\n",
      "email_counts      157917 non-null int64\n",
      "tokens            157917 non-null object\n",
      "dtypes: int64(3), object(10)\n",
      "memory usage: 15.7+ MB\n"
     ]
    }
   ],
   "source": [
    "df=df.drop(columns=['Unnamed: 0','Unnamed: 0.1'])\n",
    "df.info()"
   ]
  },
  {
   "cell_type": "code",
   "execution_count": 6,
   "metadata": {},
   "outputs": [],
   "source": [
    "def cnv2lst(text):\n",
    "    newlist = text.strip('][').split(', ') \n",
    "    return newlist"
   ]
  },
  {
   "cell_type": "code",
   "execution_count": 7,
   "metadata": {},
   "outputs": [],
   "source": [
    "df['tokens']= df.tokens.apply(cnv2lst)"
   ]
  },
  {
   "cell_type": "code",
   "execution_count": 8,
   "metadata": {},
   "outputs": [],
   "source": [
    "# Convert to list\n",
    "text = df.tokens.tolist()\n",
    "# Create Dictionary\n",
    "id2word = corpora.Dictionary(text)\n",
    "# Create Corpus\n",
    "texts = text\n",
    "# Term Document Frequency\n",
    "corpus = [id2word.doc2bow(i) for i in texts]"
   ]
  },
  {
   "cell_type": "code",
   "execution_count": 9,
   "metadata": {},
   "outputs": [],
   "source": [
    "topic_probas=loaded_model.get_document_topics(corpus,minimum_probability=0.0)"
   ]
  },
  {
   "cell_type": "code",
   "execution_count": 10,
   "metadata": {},
   "outputs": [],
   "source": [
    "topic_probas_df= pd.DataFrame({'probas':[i for i in topic_probas]})"
   ]
  },
  {
   "cell_type": "code",
   "execution_count": 11,
   "metadata": {},
   "outputs": [],
   "source": [
    "def p_topic_matrix(df_array,k):\n",
    "    df_matrix=pd.DataFrame({})\n",
    "    fx=[topic_parse0,topic_parse1,topic_parse2,topic_parse3,topic_parse4,topic_parse5,topic_parse6]\n",
    "    for i in range(k):\n",
    "        df_matrix['topic',i]= df_array.apply(fx[i])\n",
    "    return df_matrix"
   ]
  },
  {
   "cell_type": "code",
   "execution_count": 12,
   "metadata": {},
   "outputs": [],
   "source": [
    "def topic_parse0(item):\n",
    "    for r in range(len(item)):\n",
    "        if item[r][0] == 0:\n",
    "            return item[r][1]\n",
    "        \n",
    "def topic_parse1(item):\n",
    "    for r in range(len(item)):\n",
    "        if item[r][0] == 1:\n",
    "            return item[r][1]\n",
    "        \n",
    "def topic_parse2(item):\n",
    "    for r in range(len(item)):\n",
    "        if item[r][0] == 2:\n",
    "            return item[r][1]\n",
    "\n",
    "def topic_parse3(item):\n",
    "    for r in range(len(item)):\n",
    "        if item[r][0] == 3:\n",
    "            return item[r][1]\n",
    "\n",
    "def topic_parse4(item):\n",
    "    for r in range(len(item)):\n",
    "        if item[r][0] == 4:\n",
    "            return item[r][1]\n",
    "\n",
    "def topic_parse5(item):\n",
    "    for r in range(len(item)):\n",
    "        if item[r][0] == 5:\n",
    "            return item[r][1]\n",
    "\n",
    "def topic_parse6(item):\n",
    "    for r in range(len(item)):\n",
    "        if item[r][0] == 6:\n",
    "            return item[r][1]    "
   ]
  },
  {
   "cell_type": "code",
   "execution_count": 13,
   "metadata": {},
   "outputs": [],
   "source": [
    "proba_matrix=p_topic_matrix(topic_probas_df['probas'],7)"
   ]
  },
  {
   "cell_type": "code",
   "execution_count": 14,
   "metadata": {},
   "outputs": [
    {
     "data": {
      "text/html": [
       "<div>\n",
       "<style scoped>\n",
       "    .dataframe tbody tr th:only-of-type {\n",
       "        vertical-align: middle;\n",
       "    }\n",
       "\n",
       "    .dataframe tbody tr th {\n",
       "        vertical-align: top;\n",
       "    }\n",
       "\n",
       "    .dataframe thead th {\n",
       "        text-align: right;\n",
       "    }\n",
       "</style>\n",
       "<table border=\"1\" class=\"dataframe\">\n",
       "  <thead>\n",
       "    <tr style=\"text-align: right;\">\n",
       "      <th></th>\n",
       "      <th>(topic, 0)</th>\n",
       "      <th>(topic, 1)</th>\n",
       "      <th>(topic, 2)</th>\n",
       "      <th>(topic, 3)</th>\n",
       "      <th>(topic, 4)</th>\n",
       "      <th>(topic, 5)</th>\n",
       "      <th>(topic, 6)</th>\n",
       "    </tr>\n",
       "  </thead>\n",
       "  <tbody>\n",
       "    <tr>\n",
       "      <th>0</th>\n",
       "      <td>0.222775</td>\n",
       "      <td>0.010072</td>\n",
       "      <td>0.008667</td>\n",
       "      <td>0.471393</td>\n",
       "      <td>0.014207</td>\n",
       "      <td>0.266787</td>\n",
       "      <td>0.006100</td>\n",
       "    </tr>\n",
       "    <tr>\n",
       "      <th>1</th>\n",
       "      <td>0.035852</td>\n",
       "      <td>0.033238</td>\n",
       "      <td>0.028515</td>\n",
       "      <td>0.457815</td>\n",
       "      <td>0.045645</td>\n",
       "      <td>0.378845</td>\n",
       "      <td>0.020090</td>\n",
       "    </tr>\n",
       "    <tr>\n",
       "      <th>2</th>\n",
       "      <td>0.202005</td>\n",
       "      <td>0.009418</td>\n",
       "      <td>0.008118</td>\n",
       "      <td>0.388685</td>\n",
       "      <td>0.013218</td>\n",
       "      <td>0.372853</td>\n",
       "      <td>0.005703</td>\n",
       "    </tr>\n",
       "    <tr>\n",
       "      <th>3</th>\n",
       "      <td>0.263629</td>\n",
       "      <td>0.010821</td>\n",
       "      <td>0.009312</td>\n",
       "      <td>0.322495</td>\n",
       "      <td>0.015174</td>\n",
       "      <td>0.372013</td>\n",
       "      <td>0.006557</td>\n",
       "    </tr>\n",
       "    <tr>\n",
       "      <th>4</th>\n",
       "      <td>0.279878</td>\n",
       "      <td>0.010821</td>\n",
       "      <td>0.009314</td>\n",
       "      <td>0.438130</td>\n",
       "      <td>0.015166</td>\n",
       "      <td>0.240134</td>\n",
       "      <td>0.006557</td>\n",
       "    </tr>\n",
       "  </tbody>\n",
       "</table>\n",
       "</div>"
      ],
      "text/plain": [
       "   (topic, 0)  (topic, 1)  (topic, 2)  (topic, 3)  (topic, 4)  (topic, 5)  \\\n",
       "0    0.222775    0.010072    0.008667    0.471393    0.014207    0.266787   \n",
       "1    0.035852    0.033238    0.028515    0.457815    0.045645    0.378845   \n",
       "2    0.202005    0.009418    0.008118    0.388685    0.013218    0.372853   \n",
       "3    0.263629    0.010821    0.009312    0.322495    0.015174    0.372013   \n",
       "4    0.279878    0.010821    0.009314    0.438130    0.015166    0.240134   \n",
       "\n",
       "   (topic, 6)  \n",
       "0    0.006100  \n",
       "1    0.020090  \n",
       "2    0.005703  \n",
       "3    0.006557  \n",
       "4    0.006557  "
      ]
     },
     "execution_count": 14,
     "metadata": {},
     "output_type": "execute_result"
    }
   ],
   "source": [
    "proba_matrix.head()"
   ]
  },
  {
   "cell_type": "code",
   "execution_count": 15,
   "metadata": {},
   "outputs": [],
   "source": [
    "proba_matrix.to_csv(df_out)"
   ]
  },
  {
   "cell_type": "code",
   "execution_count": 16,
   "metadata": {},
   "outputs": [
    {
     "name": "stdout",
     "output_type": "stream",
     "text": [
      "Time to create matrix: 1.6 mins\n"
     ]
    }
   ],
   "source": [
    "print('Time to create matrix: {} mins'.format(round((time() - t) / 60, 2)))"
   ]
  }
 ],
 "metadata": {
  "kernelspec": {
   "display_name": "Python 3",
   "language": "python",
   "name": "python3"
  },
  "language_info": {
   "codemirror_mode": {
    "name": "ipython",
    "version": 3
   },
   "file_extension": ".py",
   "mimetype": "text/x-python",
   "name": "python",
   "nbconvert_exporter": "python",
   "pygments_lexer": "ipython3",
   "version": "3.7.3"
  }
 },
 "nbformat": 4,
 "nbformat_minor": 2
}
