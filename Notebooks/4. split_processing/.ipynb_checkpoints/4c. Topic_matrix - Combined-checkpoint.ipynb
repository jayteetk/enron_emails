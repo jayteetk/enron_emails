{
 "cells": [
  {
   "cell_type": "code",
   "execution_count": 1,
   "metadata": {},
   "outputs": [
    {
     "name": "stderr",
     "output_type": "stream",
     "text": [
      "D:\\Anaconda\\envs\\test1\\lib\\site-packages\\gensim\\utils.py:1197: UserWarning: detected Windows; aliasing chunkize to chunkize_serial\n",
      "  warnings.warn(\"detected Windows; aliasing chunkize to chunkize_serial\")\n"
     ]
    }
   ],
   "source": [
    "import numpy as np\n",
    "import pandas as pd\n",
    "import gensim\n",
    "import gensim.corpora as corpora\n",
    "from gensim.test.utils import datapath\n",
    "from gensim.models.ldamodel import LdaModel\n",
    "import pickle\n",
    "\n",
    "import warnings\n",
    "warnings.filterwarnings(\"ignore\")\n",
    "from time import time"
   ]
  },
  {
   "cell_type": "code",
   "execution_count": 2,
   "metadata": {},
   "outputs": [],
   "source": [
    "df_read = 'D:/Capstone/dataset/emails/tagged1.csv'\n",
    "df_out = 'D:/Capstone/dataset/topics1.csv'"
   ]
  },
  {
   "cell_type": "code",
   "execution_count": 3,
   "metadata": {},
   "outputs": [],
   "source": [
    "t=time()\n",
    "temp_file3 = datapath('D:/Capstone/dataset/ldamodel/lda_model3.model')\n",
    "loaded_model = LdaModel.load(temp_file3)"
   ]
  },
  {
   "cell_type": "code",
   "execution_count": 4,
   "metadata": {},
   "outputs": [],
   "source": [
    "#load df1 to topic model\n",
    "df= pd.read_csv(df_read)"
   ]
  },
  {
   "cell_type": "code",
   "execution_count": 5,
   "metadata": {},
   "outputs": [
    {
     "name": "stdout",
     "output_type": "stream",
     "text": [
      "<class 'pandas.core.frame.DataFrame'>\n",
      "RangeIndex: 157917 entries, 0 to 157916\n",
      "Data columns (total 13 columns):\n",
      "Unnamed: 0.1.1    157917 non-null int64\n",
      "message           157917 non-null object\n",
      "user              157917 non-null object\n",
      "from              157917 non-null object\n",
      "type              157917 non-null object\n",
      "subject           157917 non-null object\n",
      "date              157917 non-null object\n",
      "bcc               157917 non-null object\n",
      "email             157917 non-null object\n",
      "body              157917 non-null object\n",
      "word_count        157917 non-null int64\n",
      "email_counts      157917 non-null int64\n",
      "tokens            157917 non-null object\n",
      "dtypes: int64(3), object(10)\n",
      "memory usage: 15.7+ MB\n"
     ]
    }
   ],
   "source": [
    "df=df.drop(columns=['Unnamed: 0','Unnamed: 0.1'])\n",
    "df.info()"
   ]
  },
  {
   "cell_type": "code",
   "execution_count": 6,
   "metadata": {},
   "outputs": [],
   "source": [
    "def cnv2lst(text):\n",
    "    newlist = text.strip('][').split(', ') \n",
    "    return newlist"
   ]
  },
  {
   "cell_type": "code",
   "execution_count": 7,
   "metadata": {},
   "outputs": [],
   "source": [
    "df['tokens']= df.tokens.apply(cnv2lst)"
   ]
  },
  {
   "cell_type": "code",
   "execution_count": 8,
   "metadata": {},
   "outputs": [],
   "source": [
    "# Convert to list\n",
    "text = df.tokens.tolist()\n",
    "# Create Dictionary\n",
    "id2word = corpora.Dictionary(text)\n",
    "# Create Corpus\n",
    "texts = text\n",
    "# Term Document Frequency\n",
    "corpus = [id2word.doc2bow(i) for i in texts]"
   ]
  },
  {
   "cell_type": "code",
   "execution_count": 9,
   "metadata": {},
   "outputs": [],
   "source": [
    "topic_probas=loaded_model.get_document_topics(corpus,minimum_probability=0.0)"
   ]
  },
  {
   "cell_type": "code",
   "execution_count": 10,
   "metadata": {},
   "outputs": [],
   "source": [
    "topic_probas_df= pd.DataFrame({'probas':[i for i in topic_probas]})"
   ]
  },
  {
   "cell_type": "code",
   "execution_count": 11,
   "metadata": {},
   "outputs": [],
   "source": [
    "def p_topic_matrix(df_array,k):\n",
    "    df_matrix=pd.DataFrame({})\n",
    "    fx=[topic_parse0,topic_parse1,topic_parse2,topic_parse3,topic_parse4,topic_parse5,topic_parse6]\n",
    "    for i in range(k):\n",
    "        df_matrix['topic',i]= df_array.apply(fx[i])\n",
    "    return df_matrix"
   ]
  },
  {
   "cell_type": "code",
   "execution_count": 12,
   "metadata": {},
   "outputs": [],
   "source": [
    "def topic_parse0(item):\n",
    "    for r in range(len(item)):\n",
    "        if item[r][0] == 0:\n",
    "            return item[r][1]\n",
    "        \n",
    "def topic_parse1(item):\n",
    "    for r in range(len(item)):\n",
    "        if item[r][0] == 1:\n",
    "            return item[r][1]\n",
    "        \n",
    "def topic_parse2(item):\n",
    "    for r in range(len(item)):\n",
    "        if item[r][0] == 2:\n",
    "            return item[r][1]\n",
    "\n",
    "def topic_parse3(item):\n",
    "    for r in range(len(item)):\n",
    "        if item[r][0] == 3:\n",
    "            return item[r][1]\n",
    "\n",
    "def topic_parse4(item):\n",
    "    for r in range(len(item)):\n",
    "        if item[r][0] == 4:\n",
    "            return item[r][1]\n",
    "\n",
    "def topic_parse5(item):\n",
    "    for r in range(len(item)):\n",
    "        if item[r][0] == 5:\n",
    "            return item[r][1]\n",
    "\n",
    "def topic_parse6(item):\n",
    "    for r in range(len(item)):\n",
    "        if item[r][0] == 6:\n",
    "            return item[r][1]    "
   ]
  },
  {
   "cell_type": "code",
   "execution_count": 13,
   "metadata": {},
   "outputs": [],
   "source": [
    "proba_matrix=p_topic_matrix(topic_probas_df['probas'],7)"
   ]
  },
  {
   "cell_type": "code",
   "execution_count": 14,
   "metadata": {},
   "outputs": [
    {
     "data": {
      "text/html": [
       "<div>\n",
       "<style scoped>\n",
       "    .dataframe tbody tr th:only-of-type {\n",
       "        vertical-align: middle;\n",
       "    }\n",
       "\n",
       "    .dataframe tbody tr th {\n",
       "        vertical-align: top;\n",
       "    }\n",
       "\n",
       "    .dataframe thead th {\n",
       "        text-align: right;\n",
       "    }\n",
       "</style>\n",
       "<table border=\"1\" class=\"dataframe\">\n",
       "  <thead>\n",
       "    <tr style=\"text-align: right;\">\n",
       "      <th></th>\n",
       "      <th>(topic, 0)</th>\n",
       "      <th>(topic, 1)</th>\n",
       "      <th>(topic, 2)</th>\n",
       "      <th>(topic, 3)</th>\n",
       "      <th>(topic, 4)</th>\n",
       "      <th>(topic, 5)</th>\n",
       "      <th>(topic, 6)</th>\n",
       "    </tr>\n",
       "  </thead>\n",
       "  <tbody>\n",
       "    <tr>\n",
       "      <th>0</th>\n",
       "      <td>0.389310</td>\n",
       "      <td>0.027025</td>\n",
       "      <td>0.023228</td>\n",
       "      <td>0.418783</td>\n",
       "      <td>0.038089</td>\n",
       "      <td>0.087224</td>\n",
       "      <td>0.016342</td>\n",
       "    </tr>\n",
       "    <tr>\n",
       "      <th>1</th>\n",
       "      <td>0.001197</td>\n",
       "      <td>0.119217</td>\n",
       "      <td>0.109355</td>\n",
       "      <td>0.339545</td>\n",
       "      <td>0.001547</td>\n",
       "      <td>0.428472</td>\n",
       "      <td>0.000667</td>\n",
       "    </tr>\n",
       "    <tr>\n",
       "      <th>2</th>\n",
       "      <td>0.024577</td>\n",
       "      <td>0.022781</td>\n",
       "      <td>0.019550</td>\n",
       "      <td>0.641221</td>\n",
       "      <td>0.032891</td>\n",
       "      <td>0.245206</td>\n",
       "      <td>0.013772</td>\n",
       "    </tr>\n",
       "    <tr>\n",
       "      <th>3</th>\n",
       "      <td>0.223729</td>\n",
       "      <td>0.063056</td>\n",
       "      <td>0.042216</td>\n",
       "      <td>0.090849</td>\n",
       "      <td>0.190693</td>\n",
       "      <td>0.386831</td>\n",
       "      <td>0.002626</td>\n",
       "    </tr>\n",
       "    <tr>\n",
       "      <th>4</th>\n",
       "      <td>0.502552</td>\n",
       "      <td>0.022697</td>\n",
       "      <td>0.019549</td>\n",
       "      <td>0.037366</td>\n",
       "      <td>0.222539</td>\n",
       "      <td>0.181525</td>\n",
       "      <td>0.013773</td>\n",
       "    </tr>\n",
       "  </tbody>\n",
       "</table>\n",
       "</div>"
      ],
      "text/plain": [
       "   (topic, 0)  (topic, 1)  (topic, 2)  (topic, 3)  (topic, 4)  (topic, 5)  \\\n",
       "0    0.389310    0.027025    0.023228    0.418783    0.038089    0.087224   \n",
       "1    0.001197    0.119217    0.109355    0.339545    0.001547    0.428472   \n",
       "2    0.024577    0.022781    0.019550    0.641221    0.032891    0.245206   \n",
       "3    0.223729    0.063056    0.042216    0.090849    0.190693    0.386831   \n",
       "4    0.502552    0.022697    0.019549    0.037366    0.222539    0.181525   \n",
       "\n",
       "   (topic, 6)  \n",
       "0    0.016342  \n",
       "1    0.000667  \n",
       "2    0.013772  \n",
       "3    0.002626  \n",
       "4    0.013773  "
      ]
     },
     "execution_count": 14,
     "metadata": {},
     "output_type": "execute_result"
    }
   ],
   "source": [
    "proba_matrix.head()"
   ]
  },
  {
   "cell_type": "code",
   "execution_count": 15,
   "metadata": {},
   "outputs": [],
   "source": [
    "proba_matrix.to_csv(df_out)"
   ]
  },
  {
   "cell_type": "code",
   "execution_count": 16,
   "metadata": {},
   "outputs": [
    {
     "name": "stdout",
     "output_type": "stream",
     "text": [
      "Time to create matrix: 1.55 mins\n"
     ]
    }
   ],
   "source": [
    "print('Time to create matrix: {} mins'.format(round((time() - t) / 60, 2)))"
   ]
  },
  {
   "cell_type": "code",
   "execution_count": null,
   "metadata": {},
   "outputs": [],
   "source": []
  }
 ],
 "metadata": {
  "kernelspec": {
   "display_name": "Python 3",
   "language": "python",
   "name": "python3"
  },
  "language_info": {
   "codemirror_mode": {
    "name": "ipython",
    "version": 3
   },
   "file_extension": ".py",
   "mimetype": "text/x-python",
   "name": "python",
   "nbconvert_exporter": "python",
   "pygments_lexer": "ipython3",
   "version": "3.7.3"
  }
 },
 "nbformat": 4,
 "nbformat_minor": 2
}
