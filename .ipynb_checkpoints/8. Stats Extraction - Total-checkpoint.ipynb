{
 "cells": [
  {
   "cell_type": "code",
   "execution_count": 1,
   "metadata": {},
   "outputs": [],
   "source": [
    "import numpy as np \n",
    "import pandas as pd\n",
    "import pickle\n",
    "from datetime import datetime, timedelta, date\n",
    "import matplotlib.pyplot as plt\n",
    "import seaborn as sns"
   ]
  },
  {
   "cell_type": "code",
   "execution_count": 2,
   "metadata": {},
   "outputs": [],
   "source": [
    "df=pd.read_pickle('D:/Capstone/dataset/database/messages_combined_reduced.pkl')"
   ]
  },
  {
   "cell_type": "code",
   "execution_count": 3,
   "metadata": {},
   "outputs": [],
   "source": [
    "#import alias list for reference\n",
    "alias= pd.read_csv('D:/Capstone/dataset/database/N4J/alias.csv')\n",
    "user_dict=dict(zip(alias['uuid'].unique().tolist(), alias['user'].unique()))\n",
    "alias.drop(columns = ['Unnamed: 0'],inplace=True)"
   ]
  },
  {
   "cell_type": "code",
   "execution_count": 4,
   "metadata": {},
   "outputs": [
    {
     "data": {
      "text/plain": [
       "Index(['from_clean', 'user', 'eid', 'uuid'], dtype='object')"
      ]
     },
     "execution_count": 4,
     "metadata": {},
     "output_type": "execute_result"
    }
   ],
   "source": [
    "alias.columns"
   ]
  },
  {
   "cell_type": "code",
   "execution_count": 5,
   "metadata": {},
   "outputs": [],
   "source": [
    "#import email list for reference\n",
    "df_email=pd.read_csv('D:/Capstone/dataset/database/df_email.csv')\n",
    "df_email.drop(columns = ['Unnamed: 0'],inplace=True)"
   ]
  },
  {
   "cell_type": "code",
   "execution_count": 6,
   "metadata": {},
   "outputs": [
    {
     "data": {
      "text/plain": [
       "Index(['eid', 'from_clean'], dtype='object')"
      ]
     },
     "execution_count": 6,
     "metadata": {},
     "output_type": "execute_result"
    }
   ],
   "source": [
    "df_email.columns"
   ]
  },
  {
   "cell_type": "markdown",
   "metadata": {},
   "source": [
    "## Sent and Received by User "
   ]
  },
  {
   "cell_type": "code",
   "execution_count": 7,
   "metadata": {},
   "outputs": [],
   "source": [
    "def sent_count(df,uuid,read=True):\n",
    "    user = user_dict.get(uuid)\n",
    "    eids= df[(df['uuid']== uuid)&(df['type']=='sent')]['eid'].unique().tolist()\n",
    "    count_list=[]\n",
    "    email_list=[]\n",
    "    for i in eids:\n",
    "        count = len((df[(df['uuid']== uuid)&(df['type']=='sent')&(df['eid']==i)]))\n",
    "        count_list.append(count)\n",
    "        email = df_email[df_email['eid']== i]['from_clean'][i]\n",
    "        email_list.append(email) \n",
    "    if read == True:\n",
    "        result = pd.DataFrame({'emails':email_list,str(user):count_list})\n",
    "    else:\n",
    "        result = pd.DataFrame({'eid':eids,str(uuid):count_list})\n",
    "    return result"
   ]
  },
  {
   "cell_type": "code",
   "execution_count": 8,
   "metadata": {},
   "outputs": [
    {
     "data": {
      "text/html": [
       "<div>\n",
       "<style scoped>\n",
       "    .dataframe tbody tr th:only-of-type {\n",
       "        vertical-align: middle;\n",
       "    }\n",
       "\n",
       "    .dataframe tbody tr th {\n",
       "        vertical-align: top;\n",
       "    }\n",
       "\n",
       "    .dataframe thead th {\n",
       "        text-align: right;\n",
       "    }\n",
       "</style>\n",
       "<table border=\"1\" class=\"dataframe\">\n",
       "  <thead>\n",
       "    <tr style=\"text-align: right;\">\n",
       "      <th></th>\n",
       "      <th>emails</th>\n",
       "      <th>cash-m</th>\n",
       "    </tr>\n",
       "  </thead>\n",
       "  <tbody>\n",
       "    <tr>\n",
       "      <th>0</th>\n",
       "      <td>twanda.sweet@enron.com</td>\n",
       "      <td>15</td>\n",
       "    </tr>\n",
       "    <tr>\n",
       "      <th>1</th>\n",
       "      <td>michelle.cash@enron.com</td>\n",
       "      <td>804</td>\n",
       "    </tr>\n",
       "    <tr>\n",
       "      <th>2</th>\n",
       "      <td>carol.coats@enron.com</td>\n",
       "      <td>1</td>\n",
       "    </tr>\n",
       "  </tbody>\n",
       "</table>\n",
       "</div>"
      ],
      "text/plain": [
       "                    emails  cash-m\n",
       "0   twanda.sweet@enron.com      15\n",
       "1  michelle.cash@enron.com     804\n",
       "2    carol.coats@enron.com       1"
      ]
     },
     "execution_count": 8,
     "metadata": {},
     "output_type": "execute_result"
    }
   ],
   "source": [
    "sent_count(df,113)"
   ]
  },
  {
   "cell_type": "code",
   "execution_count": 9,
   "metadata": {},
   "outputs": [],
   "source": [
    "def rec_count(df,uuid,read=True):\n",
    "    user = user_dict.get(uuid)\n",
    "    eids= df[(df['uuid']== uuid)&(df['type']=='received')]['eid'].unique().tolist()\n",
    "    count_list=[]\n",
    "    email_list=[]\n",
    "    for i in eids:\n",
    "        count = len((df[(df['uuid']== uuid)&(df['type']=='received')&(df['eid']==i)]))\n",
    "        count_list.append(count)\n",
    "        email = df_email[df_email['eid']== i]['from_clean'][i]\n",
    "        email_list.append(email) \n",
    "    if read == True:\n",
    "        result = pd.DataFrame({'emails':email_list,str(user):count_list})\n",
    "    else:\n",
    "        result = pd.DataFrame({'eid':eids,str(uuid):count_list})\n",
    "    return result"
   ]
  },
  {
   "cell_type": "code",
   "execution_count": 10,
   "metadata": {},
   "outputs": [
    {
     "data": {
      "text/html": [
       "<div>\n",
       "<style scoped>\n",
       "    .dataframe tbody tr th:only-of-type {\n",
       "        vertical-align: middle;\n",
       "    }\n",
       "\n",
       "    .dataframe tbody tr th {\n",
       "        vertical-align: top;\n",
       "    }\n",
       "\n",
       "    .dataframe thead th {\n",
       "        text-align: right;\n",
       "    }\n",
       "</style>\n",
       "<table border=\"1\" class=\"dataframe\">\n",
       "  <thead>\n",
       "    <tr style=\"text-align: right;\">\n",
       "      <th></th>\n",
       "      <th>emails</th>\n",
       "      <th>cash-m</th>\n",
       "    </tr>\n",
       "  </thead>\n",
       "  <tbody>\n",
       "    <tr>\n",
       "      <th>0</th>\n",
       "      <td>aol.com</td>\n",
       "      <td>2</td>\n",
       "    </tr>\n",
       "    <tr>\n",
       "      <th>1</th>\n",
       "      <td>accenture.com</td>\n",
       "      <td>1</td>\n",
       "    </tr>\n",
       "    <tr>\n",
       "      <th>2</th>\n",
       "      <td>karen.buckley@enron.com</td>\n",
       "      <td>1</td>\n",
       "    </tr>\n",
       "    <tr>\n",
       "      <th>3</th>\n",
       "      <td>resources.human@enron.com</td>\n",
       "      <td>1</td>\n",
       "    </tr>\n",
       "    <tr>\n",
       "      <th>4</th>\n",
       "      <td>david.oxley@enron.com</td>\n",
       "      <td>20</td>\n",
       "    </tr>\n",
       "  </tbody>\n",
       "</table>\n",
       "</div>"
      ],
      "text/plain": [
       "                      emails  cash-m\n",
       "0                    aol.com       2\n",
       "1              accenture.com       1\n",
       "2    karen.buckley@enron.com       1\n",
       "3  resources.human@enron.com       1\n",
       "4      david.oxley@enron.com      20"
      ]
     },
     "execution_count": 10,
     "metadata": {},
     "output_type": "execute_result"
    }
   ],
   "source": [
    "rec_count(df,113).head()"
   ]
  },
  {
   "cell_type": "code",
   "execution_count": 11,
   "metadata": {},
   "outputs": [
    {
     "data": {
      "text/plain": [
       "250"
      ]
     },
     "execution_count": 11,
     "metadata": {},
     "output_type": "execute_result"
    }
   ],
   "source": [
    "rec_count(df,113).iloc[:,1].sum()"
   ]
  },
  {
   "cell_type": "markdown",
   "metadata": {},
   "source": [
    "## Sent and Received by User by Topic "
   ]
  },
  {
   "cell_type": "code",
   "execution_count": 12,
   "metadata": {},
   "outputs": [],
   "source": [
    "def sent_count_topic(df,uuid,topic,read=True):\n",
    "    user = user_dict.get(uuid)\n",
    "    eids= df[(df['uuid']== uuid)&(df['type']=='sent')&(df['topic']==topic)]['eid'].unique().tolist()\n",
    "    count_list=[]\n",
    "    email_list=[]\n",
    "    for i in eids:\n",
    "        count = len((df[(df['uuid']== uuid)&(df['type']=='sent')&(df['eid']==i)&(df['topic']==topic)]))\n",
    "        count_list.append(count)\n",
    "        email = df_email[df_email['eid']== i]['from_clean'][i]\n",
    "        email_list.append(email) \n",
    "        \n",
    "    if read == True:\n",
    "        result = pd.DataFrame({'emails':email_list,str(user):count_list})\n",
    "    else:\n",
    "        result = pd.DataFrame({'eid':eids,str(uuid):count_list})\n",
    "    return result"
   ]
  },
  {
   "cell_type": "code",
   "execution_count": 13,
   "metadata": {},
   "outputs": [
    {
     "data": {
      "text/html": [
       "<div>\n",
       "<style scoped>\n",
       "    .dataframe tbody tr th:only-of-type {\n",
       "        vertical-align: middle;\n",
       "    }\n",
       "\n",
       "    .dataframe tbody tr th {\n",
       "        vertical-align: top;\n",
       "    }\n",
       "\n",
       "    .dataframe thead th {\n",
       "        text-align: right;\n",
       "    }\n",
       "</style>\n",
       "<table border=\"1\" class=\"dataframe\">\n",
       "  <thead>\n",
       "    <tr style=\"text-align: right;\">\n",
       "      <th></th>\n",
       "      <th>emails</th>\n",
       "      <th>cash-m</th>\n",
       "    </tr>\n",
       "  </thead>\n",
       "  <tbody>\n",
       "    <tr>\n",
       "      <th>0</th>\n",
       "      <td>twanda.sweet@enron.com</td>\n",
       "      <td>8</td>\n",
       "    </tr>\n",
       "    <tr>\n",
       "      <th>1</th>\n",
       "      <td>michelle.cash@enron.com</td>\n",
       "      <td>152</td>\n",
       "    </tr>\n",
       "  </tbody>\n",
       "</table>\n",
       "</div>"
      ],
      "text/plain": [
       "                    emails  cash-m\n",
       "0   twanda.sweet@enron.com       8\n",
       "1  michelle.cash@enron.com     152"
      ]
     },
     "execution_count": 13,
     "metadata": {},
     "output_type": "execute_result"
    }
   ],
   "source": [
    "sent_count_topic(df, 113,'topic_4')"
   ]
  },
  {
   "cell_type": "code",
   "execution_count": 14,
   "metadata": {},
   "outputs": [],
   "source": [
    "def rec_count_topic(df,uuid,topic,read=True):\n",
    "    user = user_dict.get(uuid)\n",
    "    eids= df[(df['uuid']== uuid)&(df['type']=='received')&(df['topic']==topic)]['eid'].unique().tolist()\n",
    "    count_list=[]\n",
    "    email_list=[]\n",
    "    for i in eids:\n",
    "        count = len((df[(df['uuid']== uuid)&(df['type']=='received')&(df['eid']==i)&(df['topic']==topic)]))\n",
    "        count_list.append(count)\n",
    "        email = df_email[df_email['eid']== i]['from_clean'][i]\n",
    "        email_list.append(email) \n",
    "    if read == True:\n",
    "        result = pd.DataFrame({'emails':email_list,str(user):count_list})\n",
    "    else:\n",
    "        result = pd.DataFrame({'eid':eids,str(uuid):count_list})\n",
    "    return result"
   ]
  },
  {
   "cell_type": "code",
   "execution_count": 15,
   "metadata": {},
   "outputs": [
    {
     "data": {
      "text/html": [
       "<div>\n",
       "<style scoped>\n",
       "    .dataframe tbody tr th:only-of-type {\n",
       "        vertical-align: middle;\n",
       "    }\n",
       "\n",
       "    .dataframe tbody tr th {\n",
       "        vertical-align: top;\n",
       "    }\n",
       "\n",
       "    .dataframe thead th {\n",
       "        text-align: right;\n",
       "    }\n",
       "</style>\n",
       "<table border=\"1\" class=\"dataframe\">\n",
       "  <thead>\n",
       "    <tr style=\"text-align: right;\">\n",
       "      <th></th>\n",
       "      <th>emails</th>\n",
       "      <th>cash-m</th>\n",
       "    </tr>\n",
       "  </thead>\n",
       "  <tbody>\n",
       "    <tr>\n",
       "      <th>0</th>\n",
       "      <td>aol.com</td>\n",
       "      <td>2</td>\n",
       "    </tr>\n",
       "    <tr>\n",
       "      <th>1</th>\n",
       "      <td>david.oxley@enron.com</td>\n",
       "      <td>7</td>\n",
       "    </tr>\n",
       "    <tr>\n",
       "      <th>2</th>\n",
       "      <td>pam.butler@enron.com</td>\n",
       "      <td>1</td>\n",
       "    </tr>\n",
       "    <tr>\n",
       "      <th>3</th>\n",
       "      <td>40enron@enron.com</td>\n",
       "      <td>4</td>\n",
       "    </tr>\n",
       "    <tr>\n",
       "      <th>4</th>\n",
       "      <td>administration.enron@enron.com</td>\n",
       "      <td>2</td>\n",
       "    </tr>\n",
       "  </tbody>\n",
       "</table>\n",
       "</div>"
      ],
      "text/plain": [
       "                           emails  cash-m\n",
       "0                         aol.com       2\n",
       "1           david.oxley@enron.com       7\n",
       "2            pam.butler@enron.com       1\n",
       "3               40enron@enron.com       4\n",
       "4  administration.enron@enron.com       2"
      ]
     },
     "execution_count": 15,
     "metadata": {},
     "output_type": "execute_result"
    }
   ],
   "source": [
    "rec_count_topic(df,113,'topic_4').head()"
   ]
  },
  {
   "cell_type": "markdown",
   "metadata": {},
   "source": [
    "## Sent/Received by Topic"
   ]
  },
  {
   "cell_type": "code",
   "execution_count": 16,
   "metadata": {},
   "outputs": [],
   "source": [
    "def groupby_topic(df,uuid,topic):\n",
    "    user = user_dict.get(uuid)\n",
    "    received = rec_count_topic(df,uuid,topic).iloc[:,1].sum()\n",
    "    sent = sent_count_topic(df,uuid,topic).iloc[:,1].sum()\n",
    "    new_df= pd.DataFrame({'sent/received':['sent','received'], str(topic):[sent,received]})\n",
    "    return new_df"
   ]
  },
  {
   "cell_type": "code",
   "execution_count": 17,
   "metadata": {
    "scrolled": true
   },
   "outputs": [
    {
     "data": {
      "text/html": [
       "<div>\n",
       "<style scoped>\n",
       "    .dataframe tbody tr th:only-of-type {\n",
       "        vertical-align: middle;\n",
       "    }\n",
       "\n",
       "    .dataframe tbody tr th {\n",
       "        vertical-align: top;\n",
       "    }\n",
       "\n",
       "    .dataframe thead th {\n",
       "        text-align: right;\n",
       "    }\n",
       "</style>\n",
       "<table border=\"1\" class=\"dataframe\">\n",
       "  <thead>\n",
       "    <tr style=\"text-align: right;\">\n",
       "      <th></th>\n",
       "      <th>sent/received</th>\n",
       "      <th>topic_1</th>\n",
       "    </tr>\n",
       "  </thead>\n",
       "  <tbody>\n",
       "    <tr>\n",
       "      <th>0</th>\n",
       "      <td>sent</td>\n",
       "      <td>30</td>\n",
       "    </tr>\n",
       "    <tr>\n",
       "      <th>1</th>\n",
       "      <td>received</td>\n",
       "      <td>48</td>\n",
       "    </tr>\n",
       "  </tbody>\n",
       "</table>\n",
       "</div>"
      ],
      "text/plain": [
       "  sent/received  topic_1\n",
       "0          sent       30\n",
       "1      received       48"
      ]
     },
     "execution_count": 17,
     "metadata": {},
     "output_type": "execute_result"
    }
   ],
   "source": [
    "groupby_topic(df,113,'topic_1')"
   ]
  },
  {
   "cell_type": "code",
   "execution_count": 18,
   "metadata": {},
   "outputs": [],
   "source": [
    "topic_list = ['topic_0', 'topic_1', 'topic_2', 'topic_3', 'topic_4', 'topic_5']"
   ]
  },
  {
   "cell_type": "code",
   "execution_count": 19,
   "metadata": {},
   "outputs": [],
   "source": [
    "def groupby_usertopic(df,uuid,topic_list='default',percent=False):\n",
    "    if topic_list == 'default':\n",
    "        topic_list = ['topic_0', 'topic_1', 'topic_2', 'topic_3', 'topic_4', 'topic_5']\n",
    "    else:\n",
    "        topic_list = topic_list\n",
    "    received_list=[]\n",
    "    sent_list=[]\n",
    "    for t in topic_list:\n",
    "        received = rec_count_topic(df,uuid,t).iloc[:,1].sum()\n",
    "        received_list.append(received)\n",
    "        sent = sent_count_topic(df,uuid,t).iloc[:,1].sum()\n",
    "        sent_list.append(sent)\n",
    "    total_received = sum(received_list)\n",
    "    total_sent = sum(sent_list)\n",
    "    if percent == True:\n",
    "        received_list=[0 if total_received==0 else round((r/total_received)*100,2) for r in received_list]\n",
    "        sent_list =[0 if total_sent==0 else round((s/total_sent)*100,2) for s in sent_list]\n",
    "    else:\n",
    "        received_list.append(total_received)\n",
    "        sent_list.append(total_sent)\n",
    "        topic_list.append('total')\n",
    "    \n",
    "    result = pd.DataFrame({'sent':sent_list,'received':received_list})\n",
    "    result = result.T\n",
    "    result.columns=(topic_list)\n",
    "    return result"
   ]
  },
  {
   "cell_type": "code",
   "execution_count": 20,
   "metadata": {},
   "outputs": [
    {
     "data": {
      "text/html": [
       "<div>\n",
       "<style scoped>\n",
       "    .dataframe tbody tr th:only-of-type {\n",
       "        vertical-align: middle;\n",
       "    }\n",
       "\n",
       "    .dataframe tbody tr th {\n",
       "        vertical-align: top;\n",
       "    }\n",
       "\n",
       "    .dataframe thead th {\n",
       "        text-align: right;\n",
       "    }\n",
       "</style>\n",
       "<table border=\"1\" class=\"dataframe\">\n",
       "  <thead>\n",
       "    <tr style=\"text-align: right;\">\n",
       "      <th></th>\n",
       "      <th>topic_0</th>\n",
       "      <th>topic_1</th>\n",
       "      <th>topic_2</th>\n",
       "      <th>topic_3</th>\n",
       "      <th>topic_4</th>\n",
       "      <th>topic_5</th>\n",
       "    </tr>\n",
       "  </thead>\n",
       "  <tbody>\n",
       "    <tr>\n",
       "      <th>sent</th>\n",
       "      <td>14.15</td>\n",
       "      <td>9.23</td>\n",
       "      <td>3.38</td>\n",
       "      <td>22.46</td>\n",
       "      <td>49.23</td>\n",
       "      <td>1.54</td>\n",
       "    </tr>\n",
       "    <tr>\n",
       "      <th>received</th>\n",
       "      <td>3.52</td>\n",
       "      <td>33.80</td>\n",
       "      <td>2.82</td>\n",
       "      <td>29.58</td>\n",
       "      <td>29.58</td>\n",
       "      <td>0.70</td>\n",
       "    </tr>\n",
       "  </tbody>\n",
       "</table>\n",
       "</div>"
      ],
      "text/plain": [
       "          topic_0  topic_1  topic_2  topic_3  topic_4  topic_5\n",
       "sent        14.15     9.23     3.38    22.46    49.23     1.54\n",
       "received     3.52    33.80     2.82    29.58    29.58     0.70"
      ]
     },
     "execution_count": 20,
     "metadata": {},
     "output_type": "execute_result"
    }
   ],
   "source": [
    "groupby_usertopic(df,113,percent=True)"
   ]
  },
  {
   "cell_type": "code",
   "execution_count": 21,
   "metadata": {},
   "outputs": [],
   "source": [
    "def email_topics(df, eid, topic_list='default',percent=False):\n",
    "    if topic_list == 'default':\n",
    "        topic_list = ['topic_0', 'topic_1', 'topic_2', 'topic_3', 'topic_4', 'topic_5']\n",
    "    else:\n",
    "        topic_list = topic_list\n",
    "    topic_count_sent=[]\n",
    "    topic_count_received=[]\n",
    "    for t in topic_list:\n",
    "        s = len(df[(df['eid']==eid) & (df['type']=='sent') & (df['topic']==t)])\n",
    "        topic_count_sent.append(s)\n",
    "        r = len(df[(df['eid']==eid) & (df['type']=='received') & (df['topic']==t)])\n",
    "        topic_count_received.append(r)\n",
    "    total_received = sum(topic_count_received)\n",
    "    total_sent = sum(topic_count_sent)\n",
    "    if percent == True:\n",
    "        topic_count_received=[0 if total_received==0 else round((r/total_received)*100,2) for r in topic_count_received]\n",
    "        topic_count_sent =[0 if total_sent==0 else round((s/total_sent)*100,2) for s in topic_count_sent]\n",
    "    else:\n",
    "        topic_count_received.append(total_received)\n",
    "        topic_count_sent.append(total_sent)\n",
    "        topic_list.append('total')\n",
    "    result = pd.DataFrame({'sent':topic_count_sent,'received':topic_count_received})\n",
    "    result = result.T\n",
    "    result.columns=(topic_list)\n",
    "    return result"
   ]
  },
  {
   "cell_type": "code",
   "execution_count": 22,
   "metadata": {},
   "outputs": [
    {
     "data": {
      "text/html": [
       "<div>\n",
       "<style scoped>\n",
       "    .dataframe tbody tr th:only-of-type {\n",
       "        vertical-align: middle;\n",
       "    }\n",
       "\n",
       "    .dataframe tbody tr th {\n",
       "        vertical-align: top;\n",
       "    }\n",
       "\n",
       "    .dataframe thead th {\n",
       "        text-align: right;\n",
       "    }\n",
       "</style>\n",
       "<table border=\"1\" class=\"dataframe\">\n",
       "  <thead>\n",
       "    <tr style=\"text-align: right;\">\n",
       "      <th></th>\n",
       "      <th>topic_0</th>\n",
       "      <th>topic_1</th>\n",
       "      <th>topic_2</th>\n",
       "      <th>topic_3</th>\n",
       "      <th>topic_4</th>\n",
       "      <th>topic_5</th>\n",
       "    </tr>\n",
       "  </thead>\n",
       "  <tbody>\n",
       "    <tr>\n",
       "      <th>sent</th>\n",
       "      <td>0.0</td>\n",
       "      <td>0.0</td>\n",
       "      <td>0.0</td>\n",
       "      <td>0.00</td>\n",
       "      <td>0.00</td>\n",
       "      <td>0.0</td>\n",
       "    </tr>\n",
       "    <tr>\n",
       "      <th>received</th>\n",
       "      <td>0.0</td>\n",
       "      <td>0.0</td>\n",
       "      <td>0.0</td>\n",
       "      <td>83.33</td>\n",
       "      <td>16.67</td>\n",
       "      <td>0.0</td>\n",
       "    </tr>\n",
       "  </tbody>\n",
       "</table>\n",
       "</div>"
      ],
      "text/plain": [
       "          topic_0  topic_1  topic_2  topic_3  topic_4  topic_5\n",
       "sent          0.0      0.0      0.0     0.00     0.00      0.0\n",
       "received      0.0      0.0      0.0    83.33    16.67      0.0"
      ]
     },
     "execution_count": 22,
     "metadata": {},
     "output_type": "execute_result"
    }
   ],
   "source": [
    "email_topics(df,1629,percent=True)"
   ]
  },
  {
   "cell_type": "code",
   "execution_count": 23,
   "metadata": {
    "scrolled": true
   },
   "outputs": [
    {
     "data": {
      "text/html": [
       "<div>\n",
       "<style scoped>\n",
       "    .dataframe tbody tr th:only-of-type {\n",
       "        vertical-align: middle;\n",
       "    }\n",
       "\n",
       "    .dataframe tbody tr th {\n",
       "        vertical-align: top;\n",
       "    }\n",
       "\n",
       "    .dataframe thead th {\n",
       "        text-align: right;\n",
       "    }\n",
       "</style>\n",
       "<table border=\"1\" class=\"dataframe\">\n",
       "  <thead>\n",
       "    <tr style=\"text-align: right;\">\n",
       "      <th></th>\n",
       "      <th>mid</th>\n",
       "      <th>address</th>\n",
       "      <th>user</th>\n",
       "      <th>type</th>\n",
       "      <th>subject</th>\n",
       "      <th>body</th>\n",
       "      <th>date</th>\n",
       "      <th>bcc</th>\n",
       "      <th>uuid</th>\n",
       "      <th>eid</th>\n",
       "      <th>topic</th>\n",
       "      <th>topic_h</th>\n",
       "    </tr>\n",
       "  </thead>\n",
       "  <tbody>\n",
       "    <tr>\n",
       "      <th>0</th>\n",
       "      <td>165823</td>\n",
       "      <td>phillip.allen@enron.com</td>\n",
       "      <td>allen-p</td>\n",
       "      <td>sent</td>\n",
       "      <td>no subject</td>\n",
       "      <td>Here is our forecast</td>\n",
       "      <td>2001-05-14 16:39:00</td>\n",
       "      <td>None</td>\n",
       "      <td>0</td>\n",
       "      <td>0</td>\n",
       "      <td>topic_1</td>\n",
       "      <td>industry expertise</td>\n",
       "    </tr>\n",
       "    <tr>\n",
       "      <th>1</th>\n",
       "      <td>165806</td>\n",
       "      <td>phillip.allen@enron.com</td>\n",
       "      <td>allen-p</td>\n",
       "      <td>sent</td>\n",
       "      <td>no subject</td>\n",
       "      <td>Traveling to have a business meeting takes th...</td>\n",
       "      <td>2001-05-04 13:51:00</td>\n",
       "      <td>None</td>\n",
       "      <td>0</td>\n",
       "      <td>0</td>\n",
       "      <td>topic_4</td>\n",
       "      <td>trading</td>\n",
       "    </tr>\n",
       "  </tbody>\n",
       "</table>\n",
       "</div>"
      ],
      "text/plain": [
       "      mid                  address     user  type     subject  \\\n",
       "0  165823  phillip.allen@enron.com  allen-p  sent  no subject   \n",
       "1  165806  phillip.allen@enron.com  allen-p  sent  no subject   \n",
       "\n",
       "                                                body                date  \\\n",
       "0                              Here is our forecast  2001-05-14 16:39:00   \n",
       "1   Traveling to have a business meeting takes th... 2001-05-04 13:51:00   \n",
       "\n",
       "    bcc  uuid  eid    topic             topic_h  \n",
       "0  None     0    0  topic_1  industry expertise  \n",
       "1  None     0    0  topic_4             trading  "
      ]
     },
     "execution_count": 23,
     "metadata": {},
     "output_type": "execute_result"
    }
   ],
   "source": [
    "df.head(2)"
   ]
  },
  {
   "cell_type": "code",
   "execution_count": 24,
   "metadata": {},
   "outputs": [
    {
     "name": "stdout",
     "output_type": "stream",
     "text": [
      "<class 'pandas.core.frame.DataFrame'>\n",
      "Int64Index: 144785 entries, 0 to 473748\n",
      "Data columns (total 12 columns):\n",
      "mid        144785 non-null int64\n",
      "address    144785 non-null object\n",
      "user       144785 non-null object\n",
      "type       144785 non-null object\n",
      "subject    144785 non-null object\n",
      "body       144785 non-null object\n",
      "date       144785 non-null datetime64[ns]\n",
      "bcc        144785 non-null object\n",
      "uuid       144785 non-null int64\n",
      "eid        144785 non-null int64\n",
      "topic      144785 non-null object\n",
      "topic_h    144785 non-null object\n",
      "dtypes: datetime64[ns](1), int64(3), object(8)\n",
      "memory usage: 14.4+ MB\n"
     ]
    }
   ],
   "source": [
    "df.info()"
   ]
  },
  {
   "cell_type": "code",
   "execution_count": 25,
   "metadata": {
    "scrolled": true
   },
   "outputs": [],
   "source": [
    "df['date']=df['date'].dt.strftime('%d/%m/%Y')"
   ]
  },
  {
   "cell_type": "code",
   "execution_count": 26,
   "metadata": {},
   "outputs": [],
   "source": [
    "df['date'] = pd.to_datetime(df['date'],infer_datetime_format = True)"
   ]
  },
  {
   "cell_type": "code",
   "execution_count": 29,
   "metadata": {},
   "outputs": [],
   "source": [
    "def periodic_count(df,sdate,edate,window=7):\n",
    "    count_table=pd.DataFrame({})\n",
    "    sdate=pd.to_datetime(sdate)\n",
    "    edate=pd.to_datetime(edate)\n",
    "    delta = edate - sdate       \n",
    "    datelist=[sdate]\n",
    "    for i in range(0,delta.days + 1,window):\n",
    "        block = sdate + timedelta(days=i+window)\n",
    "        datelist.append(block)\n",
    "    count_list=[]\n",
    "    for d in range(len(datelist)-1):\n",
    "        sdate=pd.to_datetime(datelist[d])\n",
    "        edate=pd.to_datetime(datelist[d+1])\n",
    "        mask = (df['date'] > sdate) & (df['date'] <= edate)\n",
    "        count=len(df[mask])\n",
    "        count_list.append(count)\n",
    "    datelist=datelist[:-1]\n",
    "    count_table['date'] = datelist\n",
    "    count_table['count'] = count_list  \n",
    "    #sns.set(style=\"darkgrid\")\n",
    "    if sdate <= pd.to_datetime('31/03/2001') <= edate:\n",
    "        plt.figure(figsize=(10,5))\n",
    "        ax=sns.lineplot(x=\"date\", y=\"count\",\n",
    "                 data=count_table)\n",
    "        plt.setp(ax.get_xticklabels(), rotation=45)\n",
    "        plt.axvline(pd.to_datetime('31/03/2001'), linewidth=2, ls='dashed', c='red')\n",
    "    else:\n",
    "\n",
    "        plt.figure(figsize=(10,5))\n",
    "        ax=sns.lineplot(x=\"date\", y=\"count\",\n",
    "                     data=count_table)\n",
    "        plt.setp(ax.get_xticklabels(), rotation=45)\n",
    " \n",
    "    return count_table"
   ]
  },
  {
   "cell_type": "code",
   "execution_count": 30,
   "metadata": {},
   "outputs": [
    {
     "data": {
      "image/png": "[encoded data removed]",
      "text/plain": [
       "<Figure size 720x360 with 1 Axes>"
      ]
     },
     "metadata": {
      "needs_background": "light"
     },
     "output_type": "display_data"
    }
   ],
   "source": [
    "a=periodic_count(df[df['topic']=='topic_1'],'1/1/2000','1/1/2002',window =20)"
   ]
  },
  {
   "cell_type": "code",
   "execution_count": 55,
   "metadata": {},
   "outputs": [
    {
     "data": {
      "image/png": "[encoded data removed]",
      "text/plain": [
       "<Figure size 720x360 with 1 Axes>"
      ]
     },
     "metadata": {},
     "output_type": "display_data"
    }
   ],
   "source": [
    "a=periodic_count(df[df['topic']=='topic_2'],'1/1/2000','1/1/2002',window =20)"
   ]
  },
  {
   "cell_type": "code",
   "execution_count": 19,
   "metadata": {},
   "outputs": [],
   "source": [
    "u_list=alias['uuid'].unique().tolist()\n",
    "u_list.sort()\n",
    "a_list=alias['eid'].unique().tolist()\n",
    "e_list=df_email['eid'].unique().tolist()\n",
    "ext_list=[e for e in e_list if e not in a_list]"
   ]
  },
  {
   "cell_type": "code",
   "execution_count": null,
   "metadata": {},
   "outputs": [],
   "source": []
  }
 ],
 "metadata": {
  "kernelspec": {
   "display_name": "Python 3",
   "language": "python",
   "name": "python3"
  },
  "language_info": {
   "codemirror_mode": {
    "name": "ipython",
    "version": 3
   },
   "file_extension": ".py",
   "mimetype": "text/x-python",
   "name": "python",
   "nbconvert_exporter": "python",
   "pygments_lexer": "ipython3",
   "version": "3.7.3"
  }
 },
 "nbformat": 4,
 "nbformat_minor": 2
}
