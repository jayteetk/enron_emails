{
 "cells": [
  {
   "cell_type": "code",
   "execution_count": null,
   "metadata": {},
   "outputs": [],
   "source": [
    "import numpy as np\n",
    "import pandas as pd\n",
    "import pickle"
   ]
  },
  {
   "cell_type": "code",
   "execution_count": 1,
   "metadata": {},
   "outputs": [
    {
     "ename": "NameError",
     "evalue": "name 'pd' is not defined",
     "output_type": "error",
     "traceback": [
      "\u001b[1;31m---------------------------------------------------------------------------\u001b[0m",
      "\u001b[1;31mNameError\u001b[0m                                 Traceback (most recent call last)",
      "\u001b[1;32m<ipython-input-1-c602a42b9195>\u001b[0m in \u001b[0;36m<module>\u001b[1;34m\u001b[0m\n\u001b[1;32m----> 1\u001b[1;33m \u001b[0mdf\u001b[0m\u001b[1;33m=\u001b[0m \u001b[0mpd\u001b[0m\u001b[1;33m.\u001b[0m\u001b[0mread_pickle\u001b[0m\u001b[1;33m(\u001b[0m\u001b[1;34m'D:/Capstone/dataset/database/messages.pkl'\u001b[0m\u001b[1;33m)\u001b[0m\u001b[1;33m\u001b[0m\u001b[1;33m\u001b[0m\u001b[0m\n\u001b[0m\u001b[0;32m      2\u001b[0m \u001b[0mdf1\u001b[0m\u001b[1;33m=\u001b[0m \u001b[0mpd\u001b[0m\u001b[1;33m.\u001b[0m\u001b[0mread_csv\u001b[0m\u001b[1;33m(\u001b[0m\u001b[1;34m'D:/Capstone/dataset/topic_matrix_final.csv'\u001b[0m\u001b[1;33m)\u001b[0m\u001b[1;33m\u001b[0m\u001b[1;33m\u001b[0m\u001b[0m\n",
      "\u001b[1;31mNameError\u001b[0m: name 'pd' is not defined"
     ]
    }
   ],
   "source": [
    "df= pd.read_pickle('D:/Capstone/dataset/database/messages.pkl')\n",
    "df1= pd.read_csv('D:/Capstone/dataset/topic_matrix_final.csv')"
   ]
  },
  {
   "cell_type": "code",
   "execution_count": 3,
   "metadata": {},
   "outputs": [
    {
     "data": {
      "text/plain": [
       "473749"
      ]
     },
     "execution_count": 3,
     "metadata": {},
     "output_type": "execute_result"
    }
   ],
   "source": [
    "len(df1)"
   ]
  },
  {
   "cell_type": "code",
   "execution_count": 4,
   "metadata": {},
   "outputs": [],
   "source": [
    "df= df.merge(df1, on ='Unnamed: 0')"
   ]
  },
  {
   "cell_type": "code",
   "execution_count": 5,
   "metadata": {},
   "outputs": [
    {
     "data": {
      "text/plain": [
       "Index(['Unnamed: 0', 'mid', 'from_clean', 'user', 'type', 'subject', 'body',\n",
       "       'date', 'bcc', 'uuid', 'eid', 'topic_0', 'topic_1', 'topic_2',\n",
       "       'topic_3', 'topic_4', 'topic_5', 'topic_6', 'pred_topic', 'max_prob',\n",
       "       'final_topic'],\n",
       "      dtype='object')"
      ]
     },
     "execution_count": 5,
     "metadata": {},
     "output_type": "execute_result"
    }
   ],
   "source": [
    "df.columns"
   ]
  },
  {
   "cell_type": "code",
   "execution_count": 6,
   "metadata": {},
   "outputs": [],
   "source": [
    "df.drop(columns =['Unnamed: 0','topic_0', 'topic_1', 'topic_2',\n",
    "       'topic_3', 'topic_4', 'topic_5', 'topic_6', 'pred_topic', 'max_prob'], inplace=True)"
   ]
  },
  {
   "cell_type": "code",
   "execution_count": 7,
   "metadata": {},
   "outputs": [],
   "source": [
    "df.columns=['mid','address','user','type','subject','body','date','bcc','uuid','eid','topic']"
   ]
  },
  {
   "cell_type": "code",
   "execution_count": 8,
   "metadata": {},
   "outputs": [
    {
     "data": {
      "text/html": [
       "<div>\n",
       "<style scoped>\n",
       "    .dataframe tbody tr th:only-of-type {\n",
       "        vertical-align: middle;\n",
       "    }\n",
       "\n",
       "    .dataframe tbody tr th {\n",
       "        vertical-align: top;\n",
       "    }\n",
       "\n",
       "    .dataframe thead th {\n",
       "        text-align: right;\n",
       "    }\n",
       "</style>\n",
       "<table border=\"1\" class=\"dataframe\">\n",
       "  <thead>\n",
       "    <tr style=\"text-align: right;\">\n",
       "      <th></th>\n",
       "      <th>mid</th>\n",
       "      <th>address</th>\n",
       "      <th>user</th>\n",
       "      <th>type</th>\n",
       "      <th>subject</th>\n",
       "      <th>body</th>\n",
       "      <th>date</th>\n",
       "      <th>bcc</th>\n",
       "      <th>uuid</th>\n",
       "      <th>eid</th>\n",
       "      <th>topic</th>\n",
       "    </tr>\n",
       "  </thead>\n",
       "  <tbody>\n",
       "    <tr>\n",
       "      <th>0</th>\n",
       "      <td>165823</td>\n",
       "      <td>phillip.allen@enron.com</td>\n",
       "      <td>allen-p</td>\n",
       "      <td>sent</td>\n",
       "      <td>no subject</td>\n",
       "      <td>Here is our forecast</td>\n",
       "      <td>2001-05-14 16:39:00</td>\n",
       "      <td>None</td>\n",
       "      <td>0</td>\n",
       "      <td>0</td>\n",
       "      <td>topic_1</td>\n",
       "    </tr>\n",
       "    <tr>\n",
       "      <th>1</th>\n",
       "      <td>165806</td>\n",
       "      <td>phillip.allen@enron.com</td>\n",
       "      <td>allen-p</td>\n",
       "      <td>sent</td>\n",
       "      <td>no subject</td>\n",
       "      <td>Traveling to have a business meeting takes th...</td>\n",
       "      <td>2001-05-04 13:51:00</td>\n",
       "      <td>None</td>\n",
       "      <td>0</td>\n",
       "      <td>0</td>\n",
       "      <td>topic_4</td>\n",
       "    </tr>\n",
       "    <tr>\n",
       "      <th>2</th>\n",
       "      <td>165488</td>\n",
       "      <td>phillip.allen@enron.com</td>\n",
       "      <td>allen-p</td>\n",
       "      <td>sent</td>\n",
       "      <td>test</td>\n",
       "      <td>test successful way to go</td>\n",
       "      <td>2000-10-18 03:00:00</td>\n",
       "      <td>None</td>\n",
       "      <td>0</td>\n",
       "      <td>0</td>\n",
       "      <td>topic_1</td>\n",
       "    </tr>\n",
       "    <tr>\n",
       "      <th>3</th>\n",
       "      <td>165491</td>\n",
       "      <td>phillip.allen@enron.com</td>\n",
       "      <td>allen-p</td>\n",
       "      <td>sent</td>\n",
       "      <td>no subject</td>\n",
       "      <td>Randy Can you send me a schedule of the salar...</td>\n",
       "      <td>2000-10-23 06:13:00</td>\n",
       "      <td>None</td>\n",
       "      <td>0</td>\n",
       "      <td>0</td>\n",
       "      <td>unclassified</td>\n",
       "    </tr>\n",
       "    <tr>\n",
       "      <th>4</th>\n",
       "      <td>165433</td>\n",
       "      <td>phillip.allen@enron.com</td>\n",
       "      <td>allen-p</td>\n",
       "      <td>sent</td>\n",
       "      <td>Hello</td>\n",
       "      <td>Let's shoot for Tuesday at</td>\n",
       "      <td>2000-08-31 05:07:00</td>\n",
       "      <td>None</td>\n",
       "      <td>0</td>\n",
       "      <td>0</td>\n",
       "      <td>topic_6</td>\n",
       "    </tr>\n",
       "  </tbody>\n",
       "</table>\n",
       "</div>"
      ],
      "text/plain": [
       "      mid                  address     user  type     subject  \\\n",
       "0  165823  phillip.allen@enron.com  allen-p  sent  no subject   \n",
       "1  165806  phillip.allen@enron.com  allen-p  sent  no subject   \n",
       "2  165488  phillip.allen@enron.com  allen-p  sent        test   \n",
       "3  165491  phillip.allen@enron.com  allen-p  sent  no subject   \n",
       "4  165433  phillip.allen@enron.com  allen-p  sent       Hello   \n",
       "\n",
       "                                                body                 date  \\\n",
       "0                              Here is our forecast   2001-05-14 16:39:00   \n",
       "1   Traveling to have a business meeting takes th...  2001-05-04 13:51:00   \n",
       "2                         test successful way to go   2000-10-18 03:00:00   \n",
       "3   Randy Can you send me a schedule of the salar...  2000-10-23 06:13:00   \n",
       "4                       Let's shoot for Tuesday at    2000-08-31 05:07:00   \n",
       "\n",
       "    bcc  uuid  eid         topic  \n",
       "0  None     0    0       topic_1  \n",
       "1  None     0    0       topic_4  \n",
       "2  None     0    0       topic_1  \n",
       "3  None     0    0  unclassified  \n",
       "4  None     0    0       topic_6  "
      ]
     },
     "execution_count": 8,
     "metadata": {},
     "output_type": "execute_result"
    }
   ],
   "source": [
    "df.head()"
   ]
  },
  {
   "cell_type": "code",
   "execution_count": 9,
   "metadata": {},
   "outputs": [],
   "source": [
    "df.to_pickle('D:/Capstone/dataset/database/messages_combined.pkl')\n",
    "df.to_csv('D:/Capstone/dataset/database/messages_combined.csv')"
   ]
  },
  {
   "cell_type": "code",
   "execution_count": null,
   "metadata": {},
   "outputs": [],
   "source": []
  }
 ],
 "metadata": {
  "kernelspec": {
   "display_name": "Python 3",
   "language": "python",
   "name": "python3"
  },
  "language_info": {
   "codemirror_mode": {
    "name": "ipython",
    "version": 3
   },
   "file_extension": ".py",
   "mimetype": "text/x-python",
   "name": "python",
   "nbconvert_exporter": "python",
   "pygments_lexer": "ipython3",
   "version": "3.7.3"
  }
 },
 "nbformat": 4,
 "nbformat_minor": 2
}
